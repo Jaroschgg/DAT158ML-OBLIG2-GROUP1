{
 "cells": [
  {
   "cell_type": "markdown",
   "metadata": {},
   "source": [
    "# 1. Get the bigger picture"
   ]
  },
  {
   "cell_type": "markdown",
   "metadata": {},
   "source": [
    "### In this notebook we'll try to predict the box office revenue based on a dataset from imdb. We'll try to get as precise as possible revenue prediction based on the features given in the dataset "
   ]
  },
  {
   "cell_type": "markdown",
   "metadata": {},
   "source": [
    "# 2. Get the data"
   ]
  },
  {
   "cell_type": "code",
   "execution_count": 1,
   "metadata": {},
   "outputs": [],
   "source": [
    "# To automatically reload modules defined in external files.\n",
    "%reload_ext autoreload\n",
    "%autoreload 2\n",
    "\n",
    "# To display plots directly in the notebook:\n",
    "%matplotlib inline"
   ]
  },
  {
   "cell_type": "code",
   "execution_count": 2,
   "metadata": {},
   "outputs": [],
   "source": [
    "from pathlib import Path\n",
    "import numpy as np\n",
    "import pandas as pd\n",
    "import matplotlib.pyplot as plt\n",
    "import matplotlib\n",
    "import sklearn\n",
    "from sklearn.model_selection import cross_val_score\n",
    "from sklearn.metrics import mean_squared_error\n",
    "\n",
    "\n",
    "import seaborn as sns # For nicer plots"
   ]
  },
  {
   "cell_type": "code",
   "execution_count": 3,
   "metadata": {},
   "outputs": [],
   "source": [
    "# To make the notebook reproducible\n",
    "seed = 42\n",
    "np.random.seed(seed)"
   ]
  },
  {
   "cell_type": "markdown",
   "metadata": {},
   "source": [
    "# 3. Get insight in the data"
   ]
  },
  {
   "cell_type": "code",
   "execution_count": 4,
   "metadata": {},
   "outputs": [
    {
     "data": {
      "text/plain": [
       "['submission_2_lgb.csv',\n",
       " 'test.csv',\n",
       " 'submission_1_lgb_2-2.csv',\n",
       " 'submission_3_lgb.csv',\n",
       " '.ipynb_checkpoints',\n",
       " 'sample_submission-Copy1.csv',\n",
       " 'submission_1_voting.csv',\n",
       " 'submission_2_voting.csv',\n",
       " 'submission_3_voting.csv',\n",
       " 'train.csv']"
      ]
     },
     "execution_count": 4,
     "metadata": {},
     "output_type": "execute_result"
    }
   ],
   "source": [
    "import os\n",
    "os.listdir(\"data\")"
   ]
  },
  {
   "cell_type": "code",
   "execution_count": 5,
   "metadata": {},
   "outputs": [],
   "source": [
    "#Reads the csv files and creates a dataframe\n",
    "\n",
    "train = pd.read_csv('data/train.csv')\n",
    "test = pd.read_csv('data/test.csv')"
   ]
  },
  {
   "cell_type": "code",
   "execution_count": 6,
   "metadata": {},
   "outputs": [
    {
     "data": {
      "text/html": [
       "<div>\n",
       "<style scoped>\n",
       "    .dataframe tbody tr th:only-of-type {\n",
       "        vertical-align: middle;\n",
       "    }\n",
       "\n",
       "    .dataframe tbody tr th {\n",
       "        vertical-align: top;\n",
       "    }\n",
       "\n",
       "    .dataframe thead th {\n",
       "        text-align: right;\n",
       "    }\n",
       "</style>\n",
       "<table border=\"1\" class=\"dataframe\">\n",
       "  <thead>\n",
       "    <tr style=\"text-align: right;\">\n",
       "      <th></th>\n",
       "      <th>id</th>\n",
       "      <th>belongs_to_collection</th>\n",
       "      <th>budget</th>\n",
       "      <th>genres</th>\n",
       "      <th>homepage</th>\n",
       "      <th>imdb_id</th>\n",
       "      <th>original_language</th>\n",
       "      <th>original_title</th>\n",
       "      <th>overview</th>\n",
       "      <th>popularity</th>\n",
       "      <th>...</th>\n",
       "      <th>release_date</th>\n",
       "      <th>runtime</th>\n",
       "      <th>spoken_languages</th>\n",
       "      <th>status</th>\n",
       "      <th>tagline</th>\n",
       "      <th>title</th>\n",
       "      <th>Keywords</th>\n",
       "      <th>cast</th>\n",
       "      <th>crew</th>\n",
       "      <th>revenue</th>\n",
       "    </tr>\n",
       "  </thead>\n",
       "  <tbody>\n",
       "    <tr>\n",
       "      <td>0</td>\n",
       "      <td>1</td>\n",
       "      <td>[{'id': 313576, 'name': 'Hot Tub Time Machine ...</td>\n",
       "      <td>14000000</td>\n",
       "      <td>[{'id': 35, 'name': 'Comedy'}]</td>\n",
       "      <td>NaN</td>\n",
       "      <td>tt2637294</td>\n",
       "      <td>en</td>\n",
       "      <td>Hot Tub Time Machine 2</td>\n",
       "      <td>When Lou, who has become the \"father of the In...</td>\n",
       "      <td>6.575393</td>\n",
       "      <td>...</td>\n",
       "      <td>2/20/15</td>\n",
       "      <td>93.0</td>\n",
       "      <td>[{'iso_639_1': 'en', 'name': 'English'}]</td>\n",
       "      <td>Released</td>\n",
       "      <td>The Laws of Space and Time are About to be Vio...</td>\n",
       "      <td>Hot Tub Time Machine 2</td>\n",
       "      <td>[{'id': 4379, 'name': 'time travel'}, {'id': 9...</td>\n",
       "      <td>[{'cast_id': 4, 'character': 'Lou', 'credit_id...</td>\n",
       "      <td>[{'credit_id': '59ac067c92514107af02c8c8', 'de...</td>\n",
       "      <td>12314651</td>\n",
       "    </tr>\n",
       "    <tr>\n",
       "      <td>1</td>\n",
       "      <td>2</td>\n",
       "      <td>[{'id': 107674, 'name': 'The Princess Diaries ...</td>\n",
       "      <td>40000000</td>\n",
       "      <td>[{'id': 35, 'name': 'Comedy'}, {'id': 18, 'nam...</td>\n",
       "      <td>NaN</td>\n",
       "      <td>tt0368933</td>\n",
       "      <td>en</td>\n",
       "      <td>The Princess Diaries 2: Royal Engagement</td>\n",
       "      <td>Mia Thermopolis is now a college graduate and ...</td>\n",
       "      <td>8.248895</td>\n",
       "      <td>...</td>\n",
       "      <td>8/6/04</td>\n",
       "      <td>113.0</td>\n",
       "      <td>[{'iso_639_1': 'en', 'name': 'English'}]</td>\n",
       "      <td>Released</td>\n",
       "      <td>It can take a lifetime to find true love; she'...</td>\n",
       "      <td>The Princess Diaries 2: Royal Engagement</td>\n",
       "      <td>[{'id': 2505, 'name': 'coronation'}, {'id': 42...</td>\n",
       "      <td>[{'cast_id': 1, 'character': 'Mia Thermopolis'...</td>\n",
       "      <td>[{'credit_id': '52fe43fe9251416c7502563d', 'de...</td>\n",
       "      <td>95149435</td>\n",
       "    </tr>\n",
       "    <tr>\n",
       "      <td>2</td>\n",
       "      <td>3</td>\n",
       "      <td>NaN</td>\n",
       "      <td>3300000</td>\n",
       "      <td>[{'id': 18, 'name': 'Drama'}]</td>\n",
       "      <td>http://sonyclassics.com/whiplash/</td>\n",
       "      <td>tt2582802</td>\n",
       "      <td>en</td>\n",
       "      <td>Whiplash</td>\n",
       "      <td>Under the direction of a ruthless instructor, ...</td>\n",
       "      <td>64.299990</td>\n",
       "      <td>...</td>\n",
       "      <td>10/10/14</td>\n",
       "      <td>105.0</td>\n",
       "      <td>[{'iso_639_1': 'en', 'name': 'English'}]</td>\n",
       "      <td>Released</td>\n",
       "      <td>The road to greatness can take you to the edge.</td>\n",
       "      <td>Whiplash</td>\n",
       "      <td>[{'id': 1416, 'name': 'jazz'}, {'id': 1523, 'n...</td>\n",
       "      <td>[{'cast_id': 5, 'character': 'Andrew Neimann',...</td>\n",
       "      <td>[{'credit_id': '54d5356ec3a3683ba0000039', 'de...</td>\n",
       "      <td>13092000</td>\n",
       "    </tr>\n",
       "    <tr>\n",
       "      <td>3</td>\n",
       "      <td>4</td>\n",
       "      <td>NaN</td>\n",
       "      <td>1200000</td>\n",
       "      <td>[{'id': 53, 'name': 'Thriller'}, {'id': 18, 'n...</td>\n",
       "      <td>http://kahaanithefilm.com/</td>\n",
       "      <td>tt1821480</td>\n",
       "      <td>hi</td>\n",
       "      <td>Kahaani</td>\n",
       "      <td>Vidya Bagchi (Vidya Balan) arrives in Kolkata ...</td>\n",
       "      <td>3.174936</td>\n",
       "      <td>...</td>\n",
       "      <td>3/9/12</td>\n",
       "      <td>122.0</td>\n",
       "      <td>[{'iso_639_1': 'en', 'name': 'English'}, {'iso...</td>\n",
       "      <td>Released</td>\n",
       "      <td>NaN</td>\n",
       "      <td>Kahaani</td>\n",
       "      <td>[{'id': 10092, 'name': 'mystery'}, {'id': 1054...</td>\n",
       "      <td>[{'cast_id': 1, 'character': 'Vidya Bagchi', '...</td>\n",
       "      <td>[{'credit_id': '52fe48779251416c9108d6eb', 'de...</td>\n",
       "      <td>16000000</td>\n",
       "    </tr>\n",
       "    <tr>\n",
       "      <td>4</td>\n",
       "      <td>5</td>\n",
       "      <td>NaN</td>\n",
       "      <td>0</td>\n",
       "      <td>[{'id': 28, 'name': 'Action'}, {'id': 53, 'nam...</td>\n",
       "      <td>NaN</td>\n",
       "      <td>tt1380152</td>\n",
       "      <td>ko</td>\n",
       "      <td>마린보이</td>\n",
       "      <td>Marine Boy is the story of a former national s...</td>\n",
       "      <td>1.148070</td>\n",
       "      <td>...</td>\n",
       "      <td>2/5/09</td>\n",
       "      <td>118.0</td>\n",
       "      <td>[{'iso_639_1': 'ko', 'name': '한국어/조선말'}]</td>\n",
       "      <td>Released</td>\n",
       "      <td>NaN</td>\n",
       "      <td>Marine Boy</td>\n",
       "      <td>NaN</td>\n",
       "      <td>[{'cast_id': 3, 'character': 'Chun-soo', 'cred...</td>\n",
       "      <td>[{'credit_id': '52fe464b9251416c75073b43', 'de...</td>\n",
       "      <td>3923970</td>\n",
       "    </tr>\n",
       "  </tbody>\n",
       "</table>\n",
       "<p>5 rows × 23 columns</p>\n",
       "</div>"
      ],
      "text/plain": [
       "   id                              belongs_to_collection    budget  \\\n",
       "0   1  [{'id': 313576, 'name': 'Hot Tub Time Machine ...  14000000   \n",
       "1   2  [{'id': 107674, 'name': 'The Princess Diaries ...  40000000   \n",
       "2   3                                                NaN   3300000   \n",
       "3   4                                                NaN   1200000   \n",
       "4   5                                                NaN         0   \n",
       "\n",
       "                                              genres  \\\n",
       "0                     [{'id': 35, 'name': 'Comedy'}]   \n",
       "1  [{'id': 35, 'name': 'Comedy'}, {'id': 18, 'nam...   \n",
       "2                      [{'id': 18, 'name': 'Drama'}]   \n",
       "3  [{'id': 53, 'name': 'Thriller'}, {'id': 18, 'n...   \n",
       "4  [{'id': 28, 'name': 'Action'}, {'id': 53, 'nam...   \n",
       "\n",
       "                            homepage    imdb_id original_language  \\\n",
       "0                                NaN  tt2637294                en   \n",
       "1                                NaN  tt0368933                en   \n",
       "2  http://sonyclassics.com/whiplash/  tt2582802                en   \n",
       "3         http://kahaanithefilm.com/  tt1821480                hi   \n",
       "4                                NaN  tt1380152                ko   \n",
       "\n",
       "                             original_title  \\\n",
       "0                    Hot Tub Time Machine 2   \n",
       "1  The Princess Diaries 2: Royal Engagement   \n",
       "2                                  Whiplash   \n",
       "3                                   Kahaani   \n",
       "4                                      마린보이   \n",
       "\n",
       "                                            overview  popularity  ...  \\\n",
       "0  When Lou, who has become the \"father of the In...    6.575393  ...   \n",
       "1  Mia Thermopolis is now a college graduate and ...    8.248895  ...   \n",
       "2  Under the direction of a ruthless instructor, ...   64.299990  ...   \n",
       "3  Vidya Bagchi (Vidya Balan) arrives in Kolkata ...    3.174936  ...   \n",
       "4  Marine Boy is the story of a former national s...    1.148070  ...   \n",
       "\n",
       "  release_date runtime                                   spoken_languages  \\\n",
       "0      2/20/15    93.0           [{'iso_639_1': 'en', 'name': 'English'}]   \n",
       "1       8/6/04   113.0           [{'iso_639_1': 'en', 'name': 'English'}]   \n",
       "2     10/10/14   105.0           [{'iso_639_1': 'en', 'name': 'English'}]   \n",
       "3       3/9/12   122.0  [{'iso_639_1': 'en', 'name': 'English'}, {'iso...   \n",
       "4       2/5/09   118.0           [{'iso_639_1': 'ko', 'name': '한국어/조선말'}]   \n",
       "\n",
       "     status                                            tagline  \\\n",
       "0  Released  The Laws of Space and Time are About to be Vio...   \n",
       "1  Released  It can take a lifetime to find true love; she'...   \n",
       "2  Released    The road to greatness can take you to the edge.   \n",
       "3  Released                                                NaN   \n",
       "4  Released                                                NaN   \n",
       "\n",
       "                                      title  \\\n",
       "0                    Hot Tub Time Machine 2   \n",
       "1  The Princess Diaries 2: Royal Engagement   \n",
       "2                                  Whiplash   \n",
       "3                                   Kahaani   \n",
       "4                                Marine Boy   \n",
       "\n",
       "                                            Keywords  \\\n",
       "0  [{'id': 4379, 'name': 'time travel'}, {'id': 9...   \n",
       "1  [{'id': 2505, 'name': 'coronation'}, {'id': 42...   \n",
       "2  [{'id': 1416, 'name': 'jazz'}, {'id': 1523, 'n...   \n",
       "3  [{'id': 10092, 'name': 'mystery'}, {'id': 1054...   \n",
       "4                                                NaN   \n",
       "\n",
       "                                                cast  \\\n",
       "0  [{'cast_id': 4, 'character': 'Lou', 'credit_id...   \n",
       "1  [{'cast_id': 1, 'character': 'Mia Thermopolis'...   \n",
       "2  [{'cast_id': 5, 'character': 'Andrew Neimann',...   \n",
       "3  [{'cast_id': 1, 'character': 'Vidya Bagchi', '...   \n",
       "4  [{'cast_id': 3, 'character': 'Chun-soo', 'cred...   \n",
       "\n",
       "                                                crew   revenue  \n",
       "0  [{'credit_id': '59ac067c92514107af02c8c8', 'de...  12314651  \n",
       "1  [{'credit_id': '52fe43fe9251416c7502563d', 'de...  95149435  \n",
       "2  [{'credit_id': '54d5356ec3a3683ba0000039', 'de...  13092000  \n",
       "3  [{'credit_id': '52fe48779251416c9108d6eb', 'de...  16000000  \n",
       "4  [{'credit_id': '52fe464b9251416c75073b43', 'de...   3923970  \n",
       "\n",
       "[5 rows x 23 columns]"
      ]
     },
     "execution_count": 6,
     "metadata": {},
     "output_type": "execute_result"
    }
   ],
   "source": [
    "train.head()"
   ]
  },
  {
   "cell_type": "markdown",
   "metadata": {},
   "source": [
    "### We already see that some colums will be dropped, original title for sure (since we have english title), homepage (can be useful for external data), imdb_id and poster path will be removed\n",
    "### It is also clear that we need to do a lot of datacleaning and many decisions has to be made as how to handle data modulation. "
   ]
  },
  {
   "cell_type": "code",
   "execution_count": 7,
   "metadata": {},
   "outputs": [
    {
     "data": {
      "text/html": [
       "<div>\n",
       "<style scoped>\n",
       "    .dataframe tbody tr th:only-of-type {\n",
       "        vertical-align: middle;\n",
       "    }\n",
       "\n",
       "    .dataframe tbody tr th {\n",
       "        vertical-align: top;\n",
       "    }\n",
       "\n",
       "    .dataframe thead th {\n",
       "        text-align: right;\n",
       "    }\n",
       "</style>\n",
       "<table border=\"1\" class=\"dataframe\">\n",
       "  <thead>\n",
       "    <tr style=\"text-align: right;\">\n",
       "      <th></th>\n",
       "      <th>id</th>\n",
       "      <th>belongs_to_collection</th>\n",
       "      <th>budget</th>\n",
       "      <th>genres</th>\n",
       "      <th>homepage</th>\n",
       "      <th>imdb_id</th>\n",
       "      <th>original_language</th>\n",
       "      <th>original_title</th>\n",
       "      <th>overview</th>\n",
       "      <th>popularity</th>\n",
       "      <th>...</th>\n",
       "      <th>production_countries</th>\n",
       "      <th>release_date</th>\n",
       "      <th>runtime</th>\n",
       "      <th>spoken_languages</th>\n",
       "      <th>status</th>\n",
       "      <th>tagline</th>\n",
       "      <th>title</th>\n",
       "      <th>Keywords</th>\n",
       "      <th>cast</th>\n",
       "      <th>crew</th>\n",
       "    </tr>\n",
       "  </thead>\n",
       "  <tbody>\n",
       "    <tr>\n",
       "      <td>0</td>\n",
       "      <td>3001</td>\n",
       "      <td>[{'id': 34055, 'name': 'Pokémon Collection', '...</td>\n",
       "      <td>0</td>\n",
       "      <td>[{'id': 12, 'name': 'Adventure'}, {'id': 16, '...</td>\n",
       "      <td>http://www.pokemon.com/us/movies/movie-pokemon...</td>\n",
       "      <td>tt1226251</td>\n",
       "      <td>ja</td>\n",
       "      <td>ディアルガVSパルキアVSダークライ</td>\n",
       "      <td>Ash and friends (this time accompanied by newc...</td>\n",
       "      <td>3.851534</td>\n",
       "      <td>...</td>\n",
       "      <td>[{'iso_3166_1': 'JP', 'name': 'Japan'}, {'iso_...</td>\n",
       "      <td>7/14/07</td>\n",
       "      <td>90.0</td>\n",
       "      <td>[{'iso_639_1': 'en', 'name': 'English'}, {'iso...</td>\n",
       "      <td>Released</td>\n",
       "      <td>Somewhere Between Time &amp; Space... A Legend Is ...</td>\n",
       "      <td>Pokémon: The Rise of Darkrai</td>\n",
       "      <td>[{'id': 11451, 'name': 'pok√©mon'}, {'id': 115...</td>\n",
       "      <td>[{'cast_id': 3, 'character': 'Tonio', 'credit_...</td>\n",
       "      <td>[{'credit_id': '52fe44e7c3a368484e03d683', 'de...</td>\n",
       "    </tr>\n",
       "    <tr>\n",
       "      <td>1</td>\n",
       "      <td>3002</td>\n",
       "      <td>NaN</td>\n",
       "      <td>88000</td>\n",
       "      <td>[{'id': 27, 'name': 'Horror'}, {'id': 878, 'na...</td>\n",
       "      <td>NaN</td>\n",
       "      <td>tt0051380</td>\n",
       "      <td>en</td>\n",
       "      <td>Attack of the 50 Foot Woman</td>\n",
       "      <td>When an abused wife grows to giant size becaus...</td>\n",
       "      <td>3.559789</td>\n",
       "      <td>...</td>\n",
       "      <td>[{'iso_3166_1': 'US', 'name': 'United States o...</td>\n",
       "      <td>5/19/58</td>\n",
       "      <td>65.0</td>\n",
       "      <td>[{'iso_639_1': 'en', 'name': 'English'}]</td>\n",
       "      <td>Released</td>\n",
       "      <td>A titanic beauty spreads a macabre wave of hor...</td>\n",
       "      <td>Attack of the 50 Foot Woman</td>\n",
       "      <td>[{'id': 9748, 'name': 'revenge'}, {'id': 9951,...</td>\n",
       "      <td>[{'cast_id': 2, 'character': 'Nancy Fowler Arc...</td>\n",
       "      <td>[{'credit_id': '55807805c3a3685b1300060b', 'de...</td>\n",
       "    </tr>\n",
       "    <tr>\n",
       "      <td>2</td>\n",
       "      <td>3003</td>\n",
       "      <td>NaN</td>\n",
       "      <td>0</td>\n",
       "      <td>[{'id': 35, 'name': 'Comedy'}, {'id': 10749, '...</td>\n",
       "      <td>NaN</td>\n",
       "      <td>tt0118556</td>\n",
       "      <td>en</td>\n",
       "      <td>Addicted to Love</td>\n",
       "      <td>Good-natured astronomer Sam is devastated when...</td>\n",
       "      <td>8.085194</td>\n",
       "      <td>...</td>\n",
       "      <td>[{'iso_3166_1': 'US', 'name': 'United States o...</td>\n",
       "      <td>5/23/97</td>\n",
       "      <td>100.0</td>\n",
       "      <td>[{'iso_639_1': 'en', 'name': 'English'}]</td>\n",
       "      <td>Released</td>\n",
       "      <td>A Comedy About Lost Loves And Last Laughs</td>\n",
       "      <td>Addicted to Love</td>\n",
       "      <td>[{'id': 931, 'name': 'jealousy'}, {'id': 9673,...</td>\n",
       "      <td>[{'cast_id': 11, 'character': 'Maggie', 'credi...</td>\n",
       "      <td>[{'credit_id': '52fe4330c3a36847f8041367', 'de...</td>\n",
       "    </tr>\n",
       "    <tr>\n",
       "      <td>3</td>\n",
       "      <td>3004</td>\n",
       "      <td>NaN</td>\n",
       "      <td>6800000</td>\n",
       "      <td>[{'id': 18, 'name': 'Drama'}, {'id': 10752, 'n...</td>\n",
       "      <td>http://www.sonyclassics.com/incendies/</td>\n",
       "      <td>tt1255953</td>\n",
       "      <td>fr</td>\n",
       "      <td>Incendies</td>\n",
       "      <td>A mother's last wishes send twins Jeanne and S...</td>\n",
       "      <td>8.596012</td>\n",
       "      <td>...</td>\n",
       "      <td>[{'iso_3166_1': 'CA', 'name': 'Canada'}, {'iso...</td>\n",
       "      <td>9/4/10</td>\n",
       "      <td>130.0</td>\n",
       "      <td>[{'iso_639_1': 'fr', 'name': 'Français'}, {'is...</td>\n",
       "      <td>Released</td>\n",
       "      <td>The search began at the opening of their mothe...</td>\n",
       "      <td>Incendies</td>\n",
       "      <td>[{'id': 378, 'name': 'prison'}, {'id': 539, 'n...</td>\n",
       "      <td>[{'cast_id': 6, 'character': 'Nawal', 'credit_...</td>\n",
       "      <td>[{'credit_id': '56478092c3a36826140043af', 'de...</td>\n",
       "    </tr>\n",
       "    <tr>\n",
       "      <td>4</td>\n",
       "      <td>3005</td>\n",
       "      <td>NaN</td>\n",
       "      <td>2000000</td>\n",
       "      <td>[{'id': 36, 'name': 'History'}, {'id': 99, 'na...</td>\n",
       "      <td>NaN</td>\n",
       "      <td>tt0418753</td>\n",
       "      <td>en</td>\n",
       "      <td>Inside Deep Throat</td>\n",
       "      <td>In 1972, a seemingly typical shoestring budget...</td>\n",
       "      <td>3.217680</td>\n",
       "      <td>...</td>\n",
       "      <td>[{'iso_3166_1': 'US', 'name': 'United States o...</td>\n",
       "      <td>2/11/05</td>\n",
       "      <td>92.0</td>\n",
       "      <td>[{'iso_639_1': 'en', 'name': 'English'}]</td>\n",
       "      <td>Released</td>\n",
       "      <td>It was filmed in 6 days for 25 thousand dollar...</td>\n",
       "      <td>Inside Deep Throat</td>\n",
       "      <td>[{'id': 279, 'name': 'usa'}, {'id': 1228, 'nam...</td>\n",
       "      <td>[{'cast_id': 1, 'character': 'Narrator (voice)...</td>\n",
       "      <td>[{'credit_id': '52fe44ce9251416c75041967', 'de...</td>\n",
       "    </tr>\n",
       "  </tbody>\n",
       "</table>\n",
       "<p>5 rows × 22 columns</p>\n",
       "</div>"
      ],
      "text/plain": [
       "     id                              belongs_to_collection   budget  \\\n",
       "0  3001  [{'id': 34055, 'name': 'Pokémon Collection', '...        0   \n",
       "1  3002                                                NaN    88000   \n",
       "2  3003                                                NaN        0   \n",
       "3  3004                                                NaN  6800000   \n",
       "4  3005                                                NaN  2000000   \n",
       "\n",
       "                                              genres  \\\n",
       "0  [{'id': 12, 'name': 'Adventure'}, {'id': 16, '...   \n",
       "1  [{'id': 27, 'name': 'Horror'}, {'id': 878, 'na...   \n",
       "2  [{'id': 35, 'name': 'Comedy'}, {'id': 10749, '...   \n",
       "3  [{'id': 18, 'name': 'Drama'}, {'id': 10752, 'n...   \n",
       "4  [{'id': 36, 'name': 'History'}, {'id': 99, 'na...   \n",
       "\n",
       "                                            homepage    imdb_id  \\\n",
       "0  http://www.pokemon.com/us/movies/movie-pokemon...  tt1226251   \n",
       "1                                                NaN  tt0051380   \n",
       "2                                                NaN  tt0118556   \n",
       "3             http://www.sonyclassics.com/incendies/  tt1255953   \n",
       "4                                                NaN  tt0418753   \n",
       "\n",
       "  original_language               original_title  \\\n",
       "0                ja           ディアルガVSパルキアVSダークライ   \n",
       "1                en  Attack of the 50 Foot Woman   \n",
       "2                en             Addicted to Love   \n",
       "3                fr                    Incendies   \n",
       "4                en           Inside Deep Throat   \n",
       "\n",
       "                                            overview  popularity  ...  \\\n",
       "0  Ash and friends (this time accompanied by newc...    3.851534  ...   \n",
       "1  When an abused wife grows to giant size becaus...    3.559789  ...   \n",
       "2  Good-natured astronomer Sam is devastated when...    8.085194  ...   \n",
       "3  A mother's last wishes send twins Jeanne and S...    8.596012  ...   \n",
       "4  In 1972, a seemingly typical shoestring budget...    3.217680  ...   \n",
       "\n",
       "                                production_countries release_date runtime  \\\n",
       "0  [{'iso_3166_1': 'JP', 'name': 'Japan'}, {'iso_...      7/14/07    90.0   \n",
       "1  [{'iso_3166_1': 'US', 'name': 'United States o...      5/19/58    65.0   \n",
       "2  [{'iso_3166_1': 'US', 'name': 'United States o...      5/23/97   100.0   \n",
       "3  [{'iso_3166_1': 'CA', 'name': 'Canada'}, {'iso...       9/4/10   130.0   \n",
       "4  [{'iso_3166_1': 'US', 'name': 'United States o...      2/11/05    92.0   \n",
       "\n",
       "                                    spoken_languages    status  \\\n",
       "0  [{'iso_639_1': 'en', 'name': 'English'}, {'iso...  Released   \n",
       "1           [{'iso_639_1': 'en', 'name': 'English'}]  Released   \n",
       "2           [{'iso_639_1': 'en', 'name': 'English'}]  Released   \n",
       "3  [{'iso_639_1': 'fr', 'name': 'Français'}, {'is...  Released   \n",
       "4           [{'iso_639_1': 'en', 'name': 'English'}]  Released   \n",
       "\n",
       "                                             tagline  \\\n",
       "0  Somewhere Between Time & Space... A Legend Is ...   \n",
       "1  A titanic beauty spreads a macabre wave of hor...   \n",
       "2          A Comedy About Lost Loves And Last Laughs   \n",
       "3  The search began at the opening of their mothe...   \n",
       "4  It was filmed in 6 days for 25 thousand dollar...   \n",
       "\n",
       "                          title  \\\n",
       "0  Pokémon: The Rise of Darkrai   \n",
       "1   Attack of the 50 Foot Woman   \n",
       "2              Addicted to Love   \n",
       "3                     Incendies   \n",
       "4            Inside Deep Throat   \n",
       "\n",
       "                                            Keywords  \\\n",
       "0  [{'id': 11451, 'name': 'pok√©mon'}, {'id': 115...   \n",
       "1  [{'id': 9748, 'name': 'revenge'}, {'id': 9951,...   \n",
       "2  [{'id': 931, 'name': 'jealousy'}, {'id': 9673,...   \n",
       "3  [{'id': 378, 'name': 'prison'}, {'id': 539, 'n...   \n",
       "4  [{'id': 279, 'name': 'usa'}, {'id': 1228, 'nam...   \n",
       "\n",
       "                                                cast  \\\n",
       "0  [{'cast_id': 3, 'character': 'Tonio', 'credit_...   \n",
       "1  [{'cast_id': 2, 'character': 'Nancy Fowler Arc...   \n",
       "2  [{'cast_id': 11, 'character': 'Maggie', 'credi...   \n",
       "3  [{'cast_id': 6, 'character': 'Nawal', 'credit_...   \n",
       "4  [{'cast_id': 1, 'character': 'Narrator (voice)...   \n",
       "\n",
       "                                                crew  \n",
       "0  [{'credit_id': '52fe44e7c3a368484e03d683', 'de...  \n",
       "1  [{'credit_id': '55807805c3a3685b1300060b', 'de...  \n",
       "2  [{'credit_id': '52fe4330c3a36847f8041367', 'de...  \n",
       "3  [{'credit_id': '56478092c3a36826140043af', 'de...  \n",
       "4  [{'credit_id': '52fe44ce9251416c75041967', 'de...  \n",
       "\n",
       "[5 rows x 22 columns]"
      ]
     },
     "execution_count": 7,
     "metadata": {},
     "output_type": "execute_result"
    }
   ],
   "source": [
    "test.head()"
   ]
  },
  {
   "cell_type": "code",
   "execution_count": 8,
   "metadata": {},
   "outputs": [
    {
     "name": "stdout",
     "output_type": "stream",
     "text": [
      "<class 'pandas.core.frame.DataFrame'>\n",
      "RangeIndex: 3000 entries, 0 to 2999\n",
      "Data columns (total 23 columns):\n",
      "id                       3000 non-null int64\n",
      "belongs_to_collection    604 non-null object\n",
      "budget                   3000 non-null int64\n",
      "genres                   2993 non-null object\n",
      "homepage                 946 non-null object\n",
      "imdb_id                  3000 non-null object\n",
      "original_language        3000 non-null object\n",
      "original_title           3000 non-null object\n",
      "overview                 2992 non-null object\n",
      "popularity               3000 non-null float64\n",
      "poster_path              2999 non-null object\n",
      "production_companies     2844 non-null object\n",
      "production_countries     2945 non-null object\n",
      "release_date             3000 non-null object\n",
      "runtime                  2998 non-null float64\n",
      "spoken_languages         2980 non-null object\n",
      "status                   3000 non-null object\n",
      "tagline                  2403 non-null object\n",
      "title                    3000 non-null object\n",
      "Keywords                 2724 non-null object\n",
      "cast                     2987 non-null object\n",
      "crew                     2984 non-null object\n",
      "revenue                  3000 non-null int64\n",
      "dtypes: float64(2), int64(3), object(18)\n",
      "memory usage: 539.2+ KB\n"
     ]
    }
   ],
   "source": [
    "train.info()"
   ]
  },
  {
   "cell_type": "markdown",
   "metadata": {},
   "source": [
    "We can already see we need to find a way to deal with null values"
   ]
  },
  {
   "cell_type": "code",
   "execution_count": 9,
   "metadata": {},
   "outputs": [
    {
     "name": "stdout",
     "output_type": "stream",
     "text": [
      "<class 'pandas.core.frame.DataFrame'>\n",
      "RangeIndex: 4398 entries, 0 to 4397\n",
      "Data columns (total 22 columns):\n",
      "id                       4398 non-null int64\n",
      "belongs_to_collection    877 non-null object\n",
      "budget                   4398 non-null int64\n",
      "genres                   4382 non-null object\n",
      "homepage                 1420 non-null object\n",
      "imdb_id                  4398 non-null object\n",
      "original_language        4398 non-null object\n",
      "original_title           4398 non-null object\n",
      "overview                 4384 non-null object\n",
      "popularity               4398 non-null float64\n",
      "poster_path              4397 non-null object\n",
      "production_companies     4140 non-null object\n",
      "production_countries     4296 non-null object\n",
      "release_date             4397 non-null object\n",
      "runtime                  4394 non-null float64\n",
      "spoken_languages         4356 non-null object\n",
      "status                   4396 non-null object\n",
      "tagline                  3535 non-null object\n",
      "title                    4395 non-null object\n",
      "Keywords                 4005 non-null object\n",
      "cast                     4385 non-null object\n",
      "crew                     4376 non-null object\n",
      "dtypes: float64(2), int64(2), object(18)\n",
      "memory usage: 756.0+ KB\n"
     ]
    }
   ],
   "source": [
    "test.info()"
   ]
  },
  {
   "cell_type": "code",
   "execution_count": 10,
   "metadata": {},
   "outputs": [
    {
     "data": {
      "text/plain": [
       "(3000, 4398)"
      ]
     },
     "execution_count": 10,
     "metadata": {},
     "output_type": "execute_result"
    }
   ],
   "source": [
    "len(train), len(test)"
   ]
  },
  {
   "cell_type": "markdown",
   "metadata": {},
   "source": [
    "### It's worth noting that the dataset is relatively small and smaller than the test set. we'll therefore need to prepare the data as good as posible and get as many features as posible into our model from this relativly small dataset. "
   ]
  },
  {
   "cell_type": "markdown",
   "metadata": {},
   "source": [
    "## Let's take a look at some of the variables, more specifically: budget, runtime and popularity\n"
   ]
  },
  {
   "cell_type": "code",
   "execution_count": 11,
   "metadata": {},
   "outputs": [
    {
     "data": {
      "image/png": "[encoded data removed]",
      "text/plain": [
       "<Figure size 432x288 with 1 Axes>"
      ]
     },
     "metadata": {
      "needs_background": "light"
     },
     "output_type": "display_data"
    }
   ],
   "source": [
    "ax = sns.lineplot(x='budget', y='revenue', data=train)"
   ]
  },
  {
   "cell_type": "code",
   "execution_count": 12,
   "metadata": {},
   "outputs": [
    {
     "data": {
      "image/png": "[encoded data removed]",
      "text/plain": [
       "<Figure size 432x288 with 1 Axes>"
      ]
     },
     "metadata": {
      "needs_background": "light"
     },
     "output_type": "display_data"
    }
   ],
   "source": [
    "ax = sns.lineplot(x='runtime', y='revenue', data=train)"
   ]
  },
  {
   "cell_type": "code",
   "execution_count": 13,
   "metadata": {},
   "outputs": [
    {
     "data": {
      "image/png": "[encoded data removed]",
      "text/plain": [
       "<Figure size 432x288 with 1 Axes>"
      ]
     },
     "metadata": {
      "needs_background": "light"
     },
     "output_type": "display_data"
    }
   ],
   "source": [
    "ax = sns.scatterplot(x='popularity', y='revenue', data=train)"
   ]
  },
  {
   "cell_type": "code",
   "execution_count": 14,
   "metadata": {},
   "outputs": [
    {
     "data": {
      "text/plain": [
       "<matplotlib.axes._subplots.AxesSubplot at 0x7fda2e4947d0>"
      ]
     },
     "execution_count": 14,
     "metadata": {},
     "output_type": "execute_result"
    },
    {
     "data": {
      "image/png": "[encoded data removed]",
      "text/plain": [
       "<Figure size 864x720 with 2 Axes>"
      ]
     },
     "metadata": {
      "needs_background": "light"
     },
     "output_type": "display_data"
    }
   ],
   "source": [
    "features = ['runtime', 'budget', 'popularity', 'revenue']\n",
    "plt.subplots(figsize=(12,10))\n",
    "corr = train[features].corr()\n",
    "sns.heatmap(corr, cmap=\"Reds\")\n",
    "\n",
    "#Heatmap er bedre\n",
    "#fig = sns.PairGrid(train[['runtime', 'budget', 'popularity', 'revenue']].dropna()) #dropna dropper nullverdier\n",
    "#fig.map_upper(plt.scatter, color = 'red')\n",
    "#fig.map_lower(plt.scatter, color = 'm')\n",
    "#fig.map_diag(sns.distplot, bins = 30)"
   ]
  },
  {
   "cell_type": "code",
   "execution_count": 15,
   "metadata": {},
   "outputs": [
    {
     "data": {
      "image/png": "[encoded data removed]",
      "text/plain": [
       "<Figure size 432x288 with 1 Axes>"
      ]
     },
     "metadata": {
      "needs_background": "light"
     },
     "output_type": "display_data"
    }
   ],
   "source": [
    "ax = sns.regplot(x=\"budget\", y=\"revenue\", data=train, color =\"m\", ) \n",
    "#1e9 = 10^9"
   ]
  },
  {
   "cell_type": "code",
   "execution_count": 16,
   "metadata": {},
   "outputs": [
    {
     "data": {
      "image/png": "[encoded data removed]",
      "text/plain": [
       "<Figure size 432x288 with 1 Axes>"
      ]
     },
     "metadata": {
      "needs_background": "light"
     },
     "output_type": "display_data"
    }
   ],
   "source": [
    "ax = sns.regplot(x=\"runtime\", y=\"revenue\", data=train)"
   ]
  },
  {
   "cell_type": "code",
   "execution_count": 17,
   "metadata": {},
   "outputs": [
    {
     "data": {
      "image/png": "[encoded data removed]",
      "text/plain": [
       "<Figure size 432x288 with 1 Axes>"
      ]
     },
     "metadata": {
      "needs_background": "light"
     },
     "output_type": "display_data"
    }
   ],
   "source": [
    "ax = sns.regplot(x=\"popularity\", y=\"revenue\", data=train, color =\"g\")"
   ]
  },
  {
   "cell_type": "markdown",
   "metadata": {},
   "source": [
    "### We see that budget and popularity has a big impact on revenue earned. Runtime also has some impact, although not as much as the previous two "
   ]
  },
  {
   "cell_type": "markdown",
   "metadata": {},
   "source": [
    "# 4.Data cleaning and Data prep"
   ]
  },
  {
   "cell_type": "markdown",
   "metadata": {},
   "source": [
    "### This function will be used to clean up some of the features:"
   ]
  },
  {
   "cell_type": "code",
   "execution_count": 18,
   "metadata": {},
   "outputs": [],
   "source": [
    "#returns a list with total count of elements in a specific feature\n",
    "def featureCounter(dataset, feature, name):\n",
    "    counter = []\n",
    "    for i in dataset[feature]:\n",
    "        if(not(pd.isnull(i))):\n",
    "            counter.append(len(eval(i)))\n",
    "        else:\n",
    "            counter.append(0)\n",
    "    return counter"
   ]
  },
  {
   "cell_type": "markdown",
   "metadata": {},
   "source": [
    "### Removing some features, that are useless to us in this assigment:"
   ]
  },
  {
   "cell_type": "code",
   "execution_count": 19,
   "metadata": {},
   "outputs": [
    {
     "name": "stdout",
     "output_type": "stream",
     "text": [
      "<class 'pandas.core.frame.DataFrame'>\n",
      "RangeIndex: 3000 entries, 0 to 2999\n",
      "Data columns (total 15 columns):\n",
      "budget                   3000 non-null int64\n",
      "belongs_to_collection    604 non-null object\n",
      "genres                   2993 non-null object\n",
      "original_language        3000 non-null object\n",
      "overview                 2992 non-null object\n",
      "popularity               3000 non-null float64\n",
      "production_companies     2844 non-null object\n",
      "production_countries     2945 non-null object\n",
      "release_date             3000 non-null object\n",
      "runtime                  2998 non-null float64\n",
      "tagline                  2403 non-null object\n",
      "Keywords                 2724 non-null object\n",
      "cast                     2987 non-null object\n",
      "crew                     2984 non-null object\n",
      "revenue                  3000 non-null int64\n",
      "dtypes: float64(2), int64(2), object(11)\n",
      "memory usage: 351.7+ KB\n"
     ]
    }
   ],
   "source": [
    "train_relevant = train.filter(['budget', 'belongs_to_collection', 'genres', 'original_language', 'overview','popularity', 'production_companies',\n",
    "                                            'production_countries', 'release_date', 'runtime', 'tagline', 'Keywords', 'cast', 'crew','revenue'], axis =1)\n",
    "#test.drop(columns=['homepage', 'original_title', 'imdb_id', 'poster_path', 'status'], axis =1, inplace=True)\n",
    "train_relevant.info()"
   ]
  },
  {
   "cell_type": "markdown",
   "metadata": {},
   "source": [
    "### As expected, there are many null values"
   ]
  },
  {
   "cell_type": "code",
   "execution_count": 20,
   "metadata": {},
   "outputs": [
    {
     "data": {
      "text/plain": [
       "3526"
      ]
     },
     "execution_count": 20,
     "metadata": {},
     "output_type": "execute_result"
    }
   ],
   "source": [
    "train_relevant.isnull().sum().sum()"
   ]
  },
  {
   "cell_type": "markdown",
   "metadata": {},
   "source": [
    "### Missing by feature:"
   ]
  },
  {
   "cell_type": "code",
   "execution_count": 21,
   "metadata": {},
   "outputs": [],
   "source": [
    "pd.set_option(\"display.max_rows\", None) # To print all rows below"
   ]
  },
  {
   "cell_type": "code",
   "execution_count": 22,
   "metadata": {},
   "outputs": [
    {
     "data": {
      "text/plain": [
       "belongs_to_collection    2396\n",
       "tagline                   597\n",
       "Keywords                  276\n",
       "production_companies      156\n",
       "production_countries       55\n",
       "crew                       16\n",
       "cast                       13\n",
       "overview                    8\n",
       "genres                      7\n",
       "runtime                     2\n",
       "revenue                     0\n",
       "release_date                0\n",
       "popularity                  0\n",
       "original_language           0\n",
       "budget                      0\n",
       "dtype: int64"
      ]
     },
     "execution_count": 22,
     "metadata": {},
     "output_type": "execute_result"
    }
   ],
   "source": [
    "train_relevant.isnull().sum().sort_values(ascending=False)"
   ]
  },
  {
   "cell_type": "markdown",
   "metadata": {},
   "source": [
    "### With closer inspection we see that there are few variables that have missing values"
   ]
  },
  {
   "cell_type": "markdown",
   "metadata": {},
   "source": [
    "### We're gonna clean up all the null by making some changes to how we look at the data"
   ]
  },
  {
   "cell_type": "markdown",
   "metadata": {},
   "source": [
    "## Starting with the easiest: Runtime"
   ]
  },
  {
   "cell_type": "code",
   "execution_count": 23,
   "metadata": {},
   "outputs": [],
   "source": [
    "#As there are very few entries missing I will use the mean to fill the blanks\n",
    "train_relevant['runtime'] = train['runtime'].fillna(train['runtime'].mean())"
   ]
  },
  {
   "cell_type": "code",
   "execution_count": 24,
   "metadata": {},
   "outputs": [
    {
     "data": {
      "text/plain": [
       "0"
      ]
     },
     "execution_count": 24,
     "metadata": {},
     "output_type": "execute_result"
    }
   ],
   "source": [
    "train_relevant['runtime'].isnull().sum()"
   ]
  },
  {
   "cell_type": "markdown",
   "metadata": {},
   "source": [
    "## Looking at belongs_to_collection "
   ]
  },
  {
   "cell_type": "code",
   "execution_count": 25,
   "metadata": {},
   "outputs": [
    {
     "data": {
      "image/png": "[encoded data removed]",
      "text/plain": [
       "<Figure size 360x360 with 1 Axes>"
      ]
     },
     "metadata": {
      "needs_background": "light"
     },
     "output_type": "display_data"
    }
   ],
   "source": [
    "# Lets make a boolean column with information on weather the movie is part of a collection or not\n",
    "train_relevant['has_collection'] = ~train_relevant['belongs_to_collection'].isnull()\n",
    "\n",
    "sns.catplot(x='has_collection', y='revenue', data=train_relevant);"
   ]
  },
  {
   "cell_type": "markdown",
   "metadata": {},
   "source": [
    "### We see that a movie being a part of a collection increases revenue"
   ]
  },
  {
   "cell_type": "markdown",
   "metadata": {},
   "source": [
    "## Lets go to the next feature: Genres!"
   ]
  },
  {
   "cell_type": "code",
   "execution_count": 26,
   "metadata": {},
   "outputs": [],
   "source": [
    "#Let's look at how many genres a movie has\n",
    "train_relevant['genre_count'] = featureCounter(train_relevant, 'genres', 'gn')    "
   ]
  },
  {
   "cell_type": "code",
   "execution_count": 27,
   "metadata": {},
   "outputs": [
    {
     "data": {
      "text/plain": [
       "<seaborn.axisgrid.FacetGrid at 0x7fda2e283c50>"
      ]
     },
     "execution_count": 27,
     "metadata": {},
     "output_type": "execute_result"
    },
    {
     "data": {
      "image/png": "[encoded data removed]",
      "text/plain": [
       "<Figure size 360x360 with 1 Axes>"
      ]
     },
     "metadata": {
      "needs_background": "light"
     },
     "output_type": "display_data"
    }
   ],
   "source": [
    "#Let's try and plot it using catplot again...\n",
    "sns.catplot(x ='genre_count' , y = 'revenue', data=train_relevant)"
   ]
  },
  {
   "cell_type": "markdown",
   "metadata": {},
   "source": [
    "### We see that number of genres also makes revenue"
   ]
  },
  {
   "cell_type": "markdown",
   "metadata": {},
   "source": [
    "## Overview\n"
   ]
  },
  {
   "cell_type": "markdown",
   "metadata": {},
   "source": [
    "### there's not alot of movies missing an overview, but I would guess that a movie with an overview would do better than a movie without, so let's try and implement that, thinking back to belongs_to_collection"
   ]
  },
  {
   "cell_type": "code",
   "execution_count": 28,
   "metadata": {},
   "outputs": [
    {
     "data": {
      "text/plain": [
       "<seaborn.axisgrid.FacetGrid at 0x7fda2e258f50>"
      ]
     },
     "execution_count": 28,
     "metadata": {},
     "output_type": "execute_result"
    },
    {
     "data": {
      "image/png": "[encoded data removed]",
      "text/plain": [
       "<Figure size 360x360 with 1 Axes>"
      ]
     },
     "metadata": {
      "needs_background": "light"
     },
     "output_type": "display_data"
    }
   ],
   "source": [
    "train_relevant['overview_count'] = train_relevant['overview'].apply(lambda x: False if pd.isnull(x) else True)\n",
    "\n",
    "sns.catplot(x = 'overview_count', y = 'revenue', data=train_relevant)"
   ]
  },
  {
   "cell_type": "markdown",
   "metadata": {},
   "source": [
    "## Next feature up is production_companies\n"
   ]
  },
  {
   "cell_type": "code",
   "execution_count": 29,
   "metadata": {},
   "outputs": [],
   "source": [
    "#Using count function\n",
    "\n",
    "train_relevant[\"production_companies_count\"] = featureCounter(train_relevant, 'production_companies', 'num_of_production_companies')"
   ]
  },
  {
   "cell_type": "code",
   "execution_count": 30,
   "metadata": {},
   "outputs": [
    {
     "data": {
      "text/plain": [
       "<seaborn.axisgrid.FacetGrid at 0x7fda2e62c990>"
      ]
     },
     "execution_count": 30,
     "metadata": {},
     "output_type": "execute_result"
    },
    {
     "data": {
      "image/png": "[encoded data removed]",
      "text/plain": [
       "<Figure size 360x360 with 1 Axes>"
      ]
     },
     "metadata": {
      "needs_background": "light"
     },
     "output_type": "display_data"
    }
   ],
   "source": [
    "#Let's try and plot it with seaborn's catplot again\n",
    "sns.catplot(x='production_companies_count', y='revenue', data=train_relevant)"
   ]
  },
  {
   "cell_type": "markdown",
   "metadata": {},
   "source": [
    "### we see that fewer production companies is better, sometimes less is more"
   ]
  },
  {
   "cell_type": "markdown",
   "metadata": {},
   "source": [
    "## Onto the next feature... production_countries!"
   ]
  },
  {
   "cell_type": "code",
   "execution_count": 31,
   "metadata": {},
   "outputs": [],
   "source": [
    "#Using function\n",
    "train_relevant['production_countries_count'] = featureCounter(train_relevant,'production_countries', 'num_of_prod_countries')"
   ]
  },
  {
   "cell_type": "code",
   "execution_count": 32,
   "metadata": {},
   "outputs": [
    {
     "data": {
      "text/plain": [
       "<seaborn.axisgrid.FacetGrid at 0x7fda2ec7fb10>"
      ]
     },
     "execution_count": 32,
     "metadata": {},
     "output_type": "execute_result"
    },
    {
     "data": {
      "image/png": "[encoded data removed]",
      "text/plain": [
       "<Figure size 360x360 with 1 Axes>"
      ]
     },
     "metadata": {
      "needs_background": "light"
     },
     "output_type": "display_data"
    }
   ],
   "source": [
    "#Once more let's make a plot to see\n",
    "sns.catplot(x='production_countries_count', y='revenue', data=train_relevant)"
   ]
  },
  {
   "cell_type": "markdown",
   "metadata": {},
   "source": [
    "### Yet again we see that less is more"
   ]
  },
  {
   "cell_type": "markdown",
   "metadata": {},
   "source": [
    "## Releasedate"
   ]
  },
  {
   "cell_type": "markdown",
   "metadata": {},
   "source": [
    "### Let's split up realease date to release year, day and month. "
   ]
  },
  {
   "cell_type": "code",
   "execution_count": 33,
   "metadata": {},
   "outputs": [],
   "source": [
    "def transform_release_date(dataset):\n",
    "    dataset[['release_month', 'release_day', 'release_year']] = dataset['release_date'].str.split('/', expand =True).replace(np.nan, 0).astype(int)\n",
    "    dataset.loc[ (dataset['release_year'] <= 18) & (dataset['release_year'] < 100), \"release_year\"] += 2000\n",
    "    dataset.loc[ (dataset['release_year'] > 18)  & (dataset['release_year'] < 100), \"release_year\"] += 1900   \n",
    "    \n",
    "    full_release_date_str = dataset['release_day'].map(str)+'-'+dataset['release_month'].map(str)+'-'+dataset['release_year'].map(str) \n",
    "    day_in_week = []\n",
    "    for day in full_release_date_str:\n",
    "        try:\n",
    "            dt = pd.to_datetime(day)\n",
    "            day_dt = dt.dayofweek\n",
    "            day_in_week.append(day_dt)\n",
    "        except:\n",
    "            dt = pd.to_datetime(\"1-1-1970\", format=\"%d-%m-%Y\")\n",
    "            day_dt = dt.dayofweek\n",
    "            day_in_week.append(day_dt)\n",
    "    dataset['release_dayofweek'] = day_in_week "
   ]
  },
  {
   "cell_type": "code",
   "execution_count": 34,
   "metadata": {},
   "outputs": [
    {
     "data": {
      "text/plain": [
       "<matplotlib.axes._subplots.AxesSubplot at 0x7fda2e22e4d0>"
      ]
     },
     "execution_count": 34,
     "metadata": {},
     "output_type": "execute_result"
    },
    {
     "data": {
      "image/png": "[encoded data removed]",
      "text/plain": [
       "<Figure size 1440x360 with 4 Axes>"
      ]
     },
     "metadata": {
      "needs_background": "light"
     },
     "output_type": "display_data"
    }
   ],
   "source": [
    "transform_release_date(train_relevant)\n",
    "f, axis = plt.subplots(1,4, figsize=(20,5))\n",
    "sns.scatterplot(x=\"release_dayofweek\", y=\"revenue\", data=train_relevant, ax=axis[0])\n",
    "sns.scatterplot(x=\"release_day\", y=\"revenue\", data=train_relevant, ax=axis[1])\n",
    "sns.scatterplot(x=\"release_month\", y=\"revenue\", data=train_relevant, ax=axis[2])\n",
    "sns.scatterplot(x=\"release_year\", y=\"revenue\", data=train_relevant, ax=axis[3])"
   ]
  },
  {
   "cell_type": "markdown",
   "metadata": {},
   "source": [
    "## CAST AND CREW"
   ]
  },
  {
   "cell_type": "markdown",
   "metadata": {},
   "source": [
    "### Starting with Cast:"
   ]
  },
  {
   "cell_type": "markdown",
   "metadata": {},
   "source": [
    "#### So the way I want to look at this is if the size of the cast/crew matters. I.e if a cast with 100 people generates more than a cast of 10. Let's try and plot this first:"
   ]
  },
  {
   "cell_type": "code",
   "execution_count": 35,
   "metadata": {},
   "outputs": [],
   "source": [
    "train_relevant['cast_count'] = featureCounter(train_relevant,'cast', 'num_of_cast')"
   ]
  },
  {
   "cell_type": "code",
   "execution_count": 36,
   "metadata": {},
   "outputs": [
    {
     "data": {
      "text/plain": [
       "<matplotlib.axes._subplots.AxesSubplot at 0x7fda2e063950>"
      ]
     },
     "execution_count": 36,
     "metadata": {},
     "output_type": "execute_result"
    },
    {
     "data": {
      "image/png": "[encoded data removed]",
      "text/plain": [
       "<Figure size 432x288 with 1 Axes>"
      ]
     },
     "metadata": {
      "needs_background": "light"
     },
     "output_type": "display_data"
    }
   ],
   "source": [
    "#Let's use scatterplot instead of catplot, there would be too many entries in catplot to make it usable...\n",
    "sns.scatterplot(x='cast_count', y='revenue', data=train_relevant)"
   ]
  },
  {
   "cell_type": "markdown",
   "metadata": {},
   "source": [
    "### Let's do the same for crew, I would suspect if there was a movie with well known actors and directors the generated revenue would be alot more, but for this time I would like to keep it a bit simpler"
   ]
  },
  {
   "cell_type": "code",
   "execution_count": 37,
   "metadata": {},
   "outputs": [],
   "source": [
    "#let's do the same for crew\n",
    "train_relevant['crew_count'] = featureCounter(train_relevant, 'crew', 'num_of_crew')"
   ]
  },
  {
   "cell_type": "code",
   "execution_count": 38,
   "metadata": {},
   "outputs": [
    {
     "data": {
      "text/plain": [
       "<matplotlib.axes._subplots.AxesSubplot at 0x7fda32b6a410>"
      ]
     },
     "execution_count": 38,
     "metadata": {},
     "output_type": "execute_result"
    },
    {
     "data": {
      "image/png": "[encoded data removed]",
      "text/plain": [
       "<Figure size 432x288 with 1 Axes>"
      ]
     },
     "metadata": {
      "needs_background": "light"
     },
     "output_type": "display_data"
    }
   ],
   "source": [
    "#Let's plot it with sns scatterplot again\n",
    "sns.scatterplot(x='crew_count', y='revenue', data=train_relevant)"
   ]
  },
  {
   "cell_type": "markdown",
   "metadata": {},
   "source": [
    "### Looks reasonable"
   ]
  },
  {
   "cell_type": "markdown",
   "metadata": {},
   "source": [
    "## Keywords"
   ]
  },
  {
   "cell_type": "markdown",
   "metadata": {},
   "source": [
    "### I'm thinking we're going through the same process of making a counter, as keywords will be determined by how many there is. I would imagine that having few important keywords will generate more revenue. Having too many keywords makes it hard to even remember. "
   ]
  },
  {
   "cell_type": "code",
   "execution_count": 39,
   "metadata": {},
   "outputs": [],
   "source": [
    "#Let's test the hypothesis above\n",
    "train_relevant['keywords_count'] = featureCounter(train_relevant, 'Keywords', 'num_of_keywords')"
   ]
  },
  {
   "cell_type": "code",
   "execution_count": 40,
   "metadata": {},
   "outputs": [
    {
     "data": {
      "text/plain": [
       "<seaborn.axisgrid.FacetGrid at 0x7fda2e0634d0>"
      ]
     },
     "execution_count": 40,
     "metadata": {},
     "output_type": "execute_result"
    },
    {
     "data": {
      "image/png": "[encoded data removed]",
      "text/plain": [
       "<Figure size 360x360 with 1 Axes>"
      ]
     },
     "metadata": {
      "needs_background": "light"
     },
     "output_type": "display_data"
    }
   ],
   "source": [
    "#As per usual catplot will be the best representation \n",
    "sns.catplot(x='keywords_count', y='revenue', data=train_relevant)"
   ]
  },
  {
   "cell_type": "markdown",
   "metadata": {},
   "source": [
    "## Languages"
   ]
  },
  {
   "cell_type": "markdown",
   "metadata": {},
   "source": [
    "### this is harder to make data prep with, because most movies has english as original_language, however there can be some other languages that generates revenue. Let's make a plot to see if there is."
   ]
  },
  {
   "cell_type": "code",
   "execution_count": 41,
   "metadata": {},
   "outputs": [
    {
     "data": {
      "image/png": "[encoded data removed]",
      "text/plain": [
       "<Figure size 1080x360 with 1 Axes>"
      ]
     },
     "metadata": {
      "needs_background": "light"
     },
     "output_type": "display_data"
    }
   ],
   "source": [
    "#this plot is universally used on the kaggle forums to repressent revenue by languages, I will borrow it for the sake of a better visual over languages\n",
    "\n",
    "plt.figure(figsize=(15,5)) #figure size\n",
    "\n",
    "#It's another way to plot our data. using a variable that contains the plot parameters\n",
    "g1 = sns.boxenplot(x='original_language', y='revenue', \n",
    "                   data=train[(train['original_language'].isin((train['original_language'].value_counts()[:10].index.values)))])\n",
    "g1.set_title(\"Revenue by original language's movies\", fontsize=20) # title and fontsize\n",
    "g1.set_xticklabels(g1.get_xticklabels(),rotation=45) # It's the way to rotate the xticks when we use variable to our graphs\n",
    "g1.set_xlabel('Original language', fontsize=18) # Xlabel\n",
    "g1.set_ylabel('Revenue', fontsize=18) #Ylabel\n",
    "\n",
    "plt.show()"
   ]
  },
  {
   "cell_type": "markdown",
   "metadata": {},
   "source": [
    "### en is the winner overall here, but zh also has some above average grossing movies. Fr seems to have one high grossing movie but is it enough to account for? Anyway, there seems to be another option since the language clearly plays a role and that is to use a OneHotEncoder for the language category. "
   ]
  },
  {
   "cell_type": "code",
   "execution_count": 42,
   "metadata": {},
   "outputs": [],
   "source": [
    "from sklearn.preprocessing import OneHotEncoder\n",
    "from sklearn.compose import ColumnTransformer\n",
    "\n",
    "lan_train = train.copy()\n",
    "lan_test = test.copy()\n",
    "data_all = pd.concat([lan_test,lan_train], sort=True)\n",
    "lan_all_uni = data_all['original_language'].unique()\n",
    "\n",
    "def one_hot_encode_languages(data):\n",
    "    language_categories = [[data['original_language'].unique()]]\n",
    "    col_trans = ColumnTransformer([('ori_lan', OneHotEncoder(categories=[lan_all_uni], dtype='bool'), ['original_language'])])\n",
    "    enc_lan = col_trans.fit_transform(data)\n",
    "    enc_lan_array = enc_lan.toarray()\n",
    "    df_enc_lan = pd.DataFrame(enc_lan_array)\n",
    "    return pd.concat([data,df_enc_lan],axis=1)"
   ]
  },
  {
   "cell_type": "code",
   "execution_count": 43,
   "metadata": {},
   "outputs": [
    {
     "name": "stdout",
     "output_type": "stream",
     "text": [
      "<class 'pandas.core.frame.DataFrame'>\n",
      "RangeIndex: 3000 entries, 0 to 2999\n",
      "Data columns (total 71 columns):\n",
      "budget                        3000 non-null int64\n",
      "belongs_to_collection         604 non-null object\n",
      "genres                        2993 non-null object\n",
      "original_language             3000 non-null object\n",
      "overview                      2992 non-null object\n",
      "popularity                    3000 non-null float64\n",
      "production_companies          2844 non-null object\n",
      "production_countries          2945 non-null object\n",
      "release_date                  3000 non-null object\n",
      "runtime                       3000 non-null float64\n",
      "tagline                       2403 non-null object\n",
      "Keywords                      2724 non-null object\n",
      "cast                          2987 non-null object\n",
      "crew                          2984 non-null object\n",
      "revenue                       3000 non-null int64\n",
      "has_collection                3000 non-null bool\n",
      "genre_count                   3000 non-null int64\n",
      "overview_count                3000 non-null bool\n",
      "production_companies_count    3000 non-null int64\n",
      "production_countries_count    3000 non-null int64\n",
      "release_month                 3000 non-null int64\n",
      "release_day                   3000 non-null int64\n",
      "release_year                  3000 non-null int64\n",
      "release_dayofweek             3000 non-null int64\n",
      "cast_count                    3000 non-null int64\n",
      "crew_count                    3000 non-null int64\n",
      "keywords_count                3000 non-null int64\n",
      "0                             3000 non-null bool\n",
      "1                             3000 non-null bool\n",
      "2                             3000 non-null bool\n",
      "3                             3000 non-null bool\n",
      "4                             3000 non-null bool\n",
      "5                             3000 non-null bool\n",
      "6                             3000 non-null bool\n",
      "7                             3000 non-null bool\n",
      "8                             3000 non-null bool\n",
      "9                             3000 non-null bool\n",
      "10                            3000 non-null bool\n",
      "11                            3000 non-null bool\n",
      "12                            3000 non-null bool\n",
      "13                            3000 non-null bool\n",
      "14                            3000 non-null bool\n",
      "15                            3000 non-null bool\n",
      "16                            3000 non-null bool\n",
      "17                            3000 non-null bool\n",
      "18                            3000 non-null bool\n",
      "19                            3000 non-null bool\n",
      "20                            3000 non-null bool\n",
      "21                            3000 non-null bool\n",
      "22                            3000 non-null bool\n",
      "23                            3000 non-null bool\n",
      "24                            3000 non-null bool\n",
      "25                            3000 non-null bool\n",
      "26                            3000 non-null bool\n",
      "27                            3000 non-null bool\n",
      "28                            3000 non-null bool\n",
      "29                            3000 non-null bool\n",
      "30                            3000 non-null bool\n",
      "31                            3000 non-null bool\n",
      "32                            3000 non-null bool\n",
      "33                            3000 non-null bool\n",
      "34                            3000 non-null bool\n",
      "35                            3000 non-null bool\n",
      "36                            3000 non-null bool\n",
      "37                            3000 non-null bool\n",
      "38                            3000 non-null bool\n",
      "39                            3000 non-null bool\n",
      "40                            3000 non-null bool\n",
      "41                            3000 non-null bool\n",
      "42                            3000 non-null bool\n",
      "43                            3000 non-null bool\n",
      "dtypes: bool(46), float64(2), int64(12), object(11)\n",
      "memory usage: 720.8+ KB\n"
     ]
    }
   ],
   "source": [
    "encoded_train_rel = one_hot_encode_languages(train_relevant)\n",
    "encoded_train_rel.info()"
   ]
  },
  {
   "cell_type": "markdown",
   "metadata": {},
   "source": [
    "## Only tagline remains with null values\n"
   ]
  },
  {
   "cell_type": "code",
   "execution_count": 44,
   "metadata": {},
   "outputs": [],
   "source": [
    "#Tagline exists or not\n",
    "encoded_train_rel['tagline_count'] = encoded_train_rel['tagline'].apply(lambda x: True if(not(pd.isnull(x))) else False)"
   ]
  },
  {
   "cell_type": "code",
   "execution_count": 45,
   "metadata": {},
   "outputs": [
    {
     "data": {
      "text/plain": [
       "<seaborn.axisgrid.FacetGrid at 0x7fda2da5ba90>"
      ]
     },
     "execution_count": 45,
     "metadata": {},
     "output_type": "execute_result"
    },
    {
     "data": {
      "image/png": "[encoded data removed]",
      "text/plain": [
       "<Figure size 360x360 with 1 Axes>"
      ]
     },
     "metadata": {
      "needs_background": "light"
     },
     "output_type": "display_data"
    }
   ],
   "source": [
    "sns.catplot(x='tagline_count', y='revenue', data=encoded_train_rel)"
   ]
  },
  {
   "cell_type": "code",
   "execution_count": 46,
   "metadata": {},
   "outputs": [
    {
     "name": "stdout",
     "output_type": "stream",
     "text": [
      "<class 'pandas.core.frame.DataFrame'>\n",
      "RangeIndex: 3000 entries, 0 to 2999\n",
      "Data columns (total 72 columns):\n",
      "budget                        3000 non-null int64\n",
      "belongs_to_collection         604 non-null object\n",
      "genres                        2993 non-null object\n",
      "original_language             3000 non-null object\n",
      "overview                      2992 non-null object\n",
      "popularity                    3000 non-null float64\n",
      "production_companies          2844 non-null object\n",
      "production_countries          2945 non-null object\n",
      "release_date                  3000 non-null object\n",
      "runtime                       3000 non-null float64\n",
      "tagline                       2403 non-null object\n",
      "Keywords                      2724 non-null object\n",
      "cast                          2987 non-null object\n",
      "crew                          2984 non-null object\n",
      "revenue                       3000 non-null int64\n",
      "has_collection                3000 non-null bool\n",
      "genre_count                   3000 non-null int64\n",
      "overview_count                3000 non-null bool\n",
      "production_companies_count    3000 non-null int64\n",
      "production_countries_count    3000 non-null int64\n",
      "release_month                 3000 non-null int64\n",
      "release_day                   3000 non-null int64\n",
      "release_year                  3000 non-null int64\n",
      "release_dayofweek             3000 non-null int64\n",
      "cast_count                    3000 non-null int64\n",
      "crew_count                    3000 non-null int64\n",
      "keywords_count                3000 non-null int64\n",
      "0                             3000 non-null bool\n",
      "1                             3000 non-null bool\n",
      "2                             3000 non-null bool\n",
      "3                             3000 non-null bool\n",
      "4                             3000 non-null bool\n",
      "5                             3000 non-null bool\n",
      "6                             3000 non-null bool\n",
      "7                             3000 non-null bool\n",
      "8                             3000 non-null bool\n",
      "9                             3000 non-null bool\n",
      "10                            3000 non-null bool\n",
      "11                            3000 non-null bool\n",
      "12                            3000 non-null bool\n",
      "13                            3000 non-null bool\n",
      "14                            3000 non-null bool\n",
      "15                            3000 non-null bool\n",
      "16                            3000 non-null bool\n",
      "17                            3000 non-null bool\n",
      "18                            3000 non-null bool\n",
      "19                            3000 non-null bool\n",
      "20                            3000 non-null bool\n",
      "21                            3000 non-null bool\n",
      "22                            3000 non-null bool\n",
      "23                            3000 non-null bool\n",
      "24                            3000 non-null bool\n",
      "25                            3000 non-null bool\n",
      "26                            3000 non-null bool\n",
      "27                            3000 non-null bool\n",
      "28                            3000 non-null bool\n",
      "29                            3000 non-null bool\n",
      "30                            3000 non-null bool\n",
      "31                            3000 non-null bool\n",
      "32                            3000 non-null bool\n",
      "33                            3000 non-null bool\n",
      "34                            3000 non-null bool\n",
      "35                            3000 non-null bool\n",
      "36                            3000 non-null bool\n",
      "37                            3000 non-null bool\n",
      "38                            3000 non-null bool\n",
      "39                            3000 non-null bool\n",
      "40                            3000 non-null bool\n",
      "41                            3000 non-null bool\n",
      "42                            3000 non-null bool\n",
      "43                            3000 non-null bool\n",
      "tagline_count                 3000 non-null bool\n",
      "dtypes: bool(47), float64(2), int64(12), object(11)\n",
      "memory usage: 723.8+ KB\n"
     ]
    }
   ],
   "source": [
    "encoded_train_rel.info()"
   ]
  },
  {
   "cell_type": "markdown",
   "metadata": {},
   "source": [
    "# Pipeline for datacleaning\n",
    "### We've done a lot of datacleaning, but let's make a function to transform it all into a pipeline"
   ]
  },
  {
   "cell_type": "code",
   "execution_count": 47,
   "metadata": {},
   "outputs": [],
   "source": [
    "def pipeline(dataset):\n",
    "    data_relevant = dataset.filter(['budget', 'belongs_to_collection', 'genres', 'original_language', 'overview','popularity', 'production_companies',\n",
    "                                            'production_countries', 'release_date', 'runtime', 'tagline', 'Keywords', 'cast', 'crew'], axis =1)\n",
    "    data_relevant['runtime'] = dataset['runtime'].fillna(dataset['runtime'].mean())\n",
    "    data_relevant['has_collection'] = ~data_relevant['belongs_to_collection'].isnull()\n",
    "    data_relevant['genres_count'] = featureCounter(data_relevant, 'genres', 'gn')     \n",
    "    data_relevant['overview_count'] = data_relevant['overview'].apply(lambda x: False if pd.isnull(x) else True)\n",
    "    data_relevant[\"production_companies_count\"] = featureCounter(data_relevant, 'production_companies', 'num_of_production_companies')\n",
    "    data_relevant['production_countries_count'] = featureCounter(data_relevant,'production_countries', 'num_of_prod_countries')\n",
    "    transform_release_date(data_relevant)\n",
    "    data_relevant['cast_count'] = featureCounter(data_relevant,'cast', 'num_of_cast')\n",
    "    data_relevant['crew_count'] = featureCounter(data_relevant, 'crew', 'num_of_crew')\n",
    "    data_relevant['tagline_count'] = data_relevant['tagline'].apply(lambda x: True if(not(pd.isnull(x))) else False)\n",
    "    enc_data_rel = one_hot_encode_languages(data_relevant)\n",
    "    final_dataset = enc_data_rel.select_dtypes(exclude=['object'])\n",
    "    return final_dataset"
   ]
  },
  {
   "cell_type": "code",
   "execution_count": 48,
   "metadata": {},
   "outputs": [
    {
     "data": {
      "text/html": [
       "<div>\n",
       "<style scoped>\n",
       "    .dataframe tbody tr th:only-of-type {\n",
       "        vertical-align: middle;\n",
       "    }\n",
       "\n",
       "    .dataframe tbody tr th {\n",
       "        vertical-align: top;\n",
       "    }\n",
       "\n",
       "    .dataframe thead th {\n",
       "        text-align: right;\n",
       "    }\n",
       "</style>\n",
       "<table border=\"1\" class=\"dataframe\">\n",
       "  <thead>\n",
       "    <tr style=\"text-align: right;\">\n",
       "      <th></th>\n",
       "      <th>budget</th>\n",
       "      <th>popularity</th>\n",
       "      <th>runtime</th>\n",
       "      <th>has_collection</th>\n",
       "      <th>genres_count</th>\n",
       "      <th>overview_count</th>\n",
       "      <th>production_companies_count</th>\n",
       "      <th>production_countries_count</th>\n",
       "      <th>release_month</th>\n",
       "      <th>release_day</th>\n",
       "      <th>...</th>\n",
       "      <th>34</th>\n",
       "      <th>35</th>\n",
       "      <th>36</th>\n",
       "      <th>37</th>\n",
       "      <th>38</th>\n",
       "      <th>39</th>\n",
       "      <th>40</th>\n",
       "      <th>41</th>\n",
       "      <th>42</th>\n",
       "      <th>43</th>\n",
       "    </tr>\n",
       "  </thead>\n",
       "  <tbody>\n",
       "    <tr>\n",
       "      <td>0</td>\n",
       "      <td>14000000</td>\n",
       "      <td>6.575393</td>\n",
       "      <td>93.0</td>\n",
       "      <td>True</td>\n",
       "      <td>1</td>\n",
       "      <td>True</td>\n",
       "      <td>3</td>\n",
       "      <td>1</td>\n",
       "      <td>2</td>\n",
       "      <td>20</td>\n",
       "      <td>...</td>\n",
       "      <td>False</td>\n",
       "      <td>False</td>\n",
       "      <td>False</td>\n",
       "      <td>False</td>\n",
       "      <td>False</td>\n",
       "      <td>False</td>\n",
       "      <td>False</td>\n",
       "      <td>False</td>\n",
       "      <td>False</td>\n",
       "      <td>False</td>\n",
       "    </tr>\n",
       "    <tr>\n",
       "      <td>1</td>\n",
       "      <td>40000000</td>\n",
       "      <td>8.248895</td>\n",
       "      <td>113.0</td>\n",
       "      <td>True</td>\n",
       "      <td>4</td>\n",
       "      <td>True</td>\n",
       "      <td>1</td>\n",
       "      <td>1</td>\n",
       "      <td>8</td>\n",
       "      <td>6</td>\n",
       "      <td>...</td>\n",
       "      <td>False</td>\n",
       "      <td>False</td>\n",
       "      <td>False</td>\n",
       "      <td>False</td>\n",
       "      <td>False</td>\n",
       "      <td>False</td>\n",
       "      <td>False</td>\n",
       "      <td>False</td>\n",
       "      <td>False</td>\n",
       "      <td>False</td>\n",
       "    </tr>\n",
       "    <tr>\n",
       "      <td>2</td>\n",
       "      <td>3300000</td>\n",
       "      <td>64.299990</td>\n",
       "      <td>105.0</td>\n",
       "      <td>False</td>\n",
       "      <td>1</td>\n",
       "      <td>True</td>\n",
       "      <td>3</td>\n",
       "      <td>1</td>\n",
       "      <td>10</td>\n",
       "      <td>10</td>\n",
       "      <td>...</td>\n",
       "      <td>False</td>\n",
       "      <td>False</td>\n",
       "      <td>False</td>\n",
       "      <td>False</td>\n",
       "      <td>False</td>\n",
       "      <td>False</td>\n",
       "      <td>False</td>\n",
       "      <td>False</td>\n",
       "      <td>False</td>\n",
       "      <td>False</td>\n",
       "    </tr>\n",
       "    <tr>\n",
       "      <td>3</td>\n",
       "      <td>1200000</td>\n",
       "      <td>3.174936</td>\n",
       "      <td>122.0</td>\n",
       "      <td>False</td>\n",
       "      <td>2</td>\n",
       "      <td>True</td>\n",
       "      <td>0</td>\n",
       "      <td>1</td>\n",
       "      <td>3</td>\n",
       "      <td>9</td>\n",
       "      <td>...</td>\n",
       "      <td>False</td>\n",
       "      <td>False</td>\n",
       "      <td>False</td>\n",
       "      <td>False</td>\n",
       "      <td>False</td>\n",
       "      <td>False</td>\n",
       "      <td>False</td>\n",
       "      <td>False</td>\n",
       "      <td>False</td>\n",
       "      <td>False</td>\n",
       "    </tr>\n",
       "    <tr>\n",
       "      <td>4</td>\n",
       "      <td>0</td>\n",
       "      <td>1.148070</td>\n",
       "      <td>118.0</td>\n",
       "      <td>False</td>\n",
       "      <td>2</td>\n",
       "      <td>True</td>\n",
       "      <td>0</td>\n",
       "      <td>1</td>\n",
       "      <td>2</td>\n",
       "      <td>5</td>\n",
       "      <td>...</td>\n",
       "      <td>False</td>\n",
       "      <td>False</td>\n",
       "      <td>False</td>\n",
       "      <td>False</td>\n",
       "      <td>False</td>\n",
       "      <td>False</td>\n",
       "      <td>False</td>\n",
       "      <td>False</td>\n",
       "      <td>False</td>\n",
       "      <td>False</td>\n",
       "    </tr>\n",
       "  </tbody>\n",
       "</table>\n",
       "<p>5 rows × 59 columns</p>\n",
       "</div>"
      ],
      "text/plain": [
       "     budget  popularity  runtime  has_collection  genres_count  \\\n",
       "0  14000000    6.575393     93.0            True             1   \n",
       "1  40000000    8.248895    113.0            True             4   \n",
       "2   3300000   64.299990    105.0           False             1   \n",
       "3   1200000    3.174936    122.0           False             2   \n",
       "4         0    1.148070    118.0           False             2   \n",
       "\n",
       "   overview_count  production_companies_count  production_countries_count  \\\n",
       "0            True                           3                           1   \n",
       "1            True                           1                           1   \n",
       "2            True                           3                           1   \n",
       "3            True                           0                           1   \n",
       "4            True                           0                           1   \n",
       "\n",
       "   release_month  release_day  ...     34     35     36     37     38     39  \\\n",
       "0              2           20  ...  False  False  False  False  False  False   \n",
       "1              8            6  ...  False  False  False  False  False  False   \n",
       "2             10           10  ...  False  False  False  False  False  False   \n",
       "3              3            9  ...  False  False  False  False  False  False   \n",
       "4              2            5  ...  False  False  False  False  False  False   \n",
       "\n",
       "      40     41     42     43  \n",
       "0  False  False  False  False  \n",
       "1  False  False  False  False  \n",
       "2  False  False  False  False  \n",
       "3  False  False  False  False  \n",
       "4  False  False  False  False  \n",
       "\n",
       "[5 rows x 59 columns]"
      ]
     },
     "execution_count": 48,
     "metadata": {},
     "output_type": "execute_result"
    }
   ],
   "source": [
    "data_prep = pipeline(train)\n",
    "data_prep.head()"
   ]
  },
  {
   "cell_type": "code",
   "execution_count": 49,
   "metadata": {},
   "outputs": [
    {
     "name": "stdout",
     "output_type": "stream",
     "text": [
      "<class 'pandas.core.frame.DataFrame'>\n",
      "RangeIndex: 3000 entries, 0 to 2999\n",
      "Data columns (total 59 columns):\n",
      "budget                        3000 non-null int64\n",
      "popularity                    3000 non-null float64\n",
      "runtime                       3000 non-null float64\n",
      "has_collection                3000 non-null bool\n",
      "genres_count                  3000 non-null int64\n",
      "overview_count                3000 non-null bool\n",
      "production_companies_count    3000 non-null int64\n",
      "production_countries_count    3000 non-null int64\n",
      "release_month                 3000 non-null int64\n",
      "release_day                   3000 non-null int64\n",
      "release_year                  3000 non-null int64\n",
      "release_dayofweek             3000 non-null int64\n",
      "cast_count                    3000 non-null int64\n",
      "crew_count                    3000 non-null int64\n",
      "tagline_count                 3000 non-null bool\n",
      "0                             3000 non-null bool\n",
      "1                             3000 non-null bool\n",
      "2                             3000 non-null bool\n",
      "3                             3000 non-null bool\n",
      "4                             3000 non-null bool\n",
      "5                             3000 non-null bool\n",
      "6                             3000 non-null bool\n",
      "7                             3000 non-null bool\n",
      "8                             3000 non-null bool\n",
      "9                             3000 non-null bool\n",
      "10                            3000 non-null bool\n",
      "11                            3000 non-null bool\n",
      "12                            3000 non-null bool\n",
      "13                            3000 non-null bool\n",
      "14                            3000 non-null bool\n",
      "15                            3000 non-null bool\n",
      "16                            3000 non-null bool\n",
      "17                            3000 non-null bool\n",
      "18                            3000 non-null bool\n",
      "19                            3000 non-null bool\n",
      "20                            3000 non-null bool\n",
      "21                            3000 non-null bool\n",
      "22                            3000 non-null bool\n",
      "23                            3000 non-null bool\n",
      "24                            3000 non-null bool\n",
      "25                            3000 non-null bool\n",
      "26                            3000 non-null bool\n",
      "27                            3000 non-null bool\n",
      "28                            3000 non-null bool\n",
      "29                            3000 non-null bool\n",
      "30                            3000 non-null bool\n",
      "31                            3000 non-null bool\n",
      "32                            3000 non-null bool\n",
      "33                            3000 non-null bool\n",
      "34                            3000 non-null bool\n",
      "35                            3000 non-null bool\n",
      "36                            3000 non-null bool\n",
      "37                            3000 non-null bool\n",
      "38                            3000 non-null bool\n",
      "39                            3000 non-null bool\n",
      "40                            3000 non-null bool\n",
      "41                            3000 non-null bool\n",
      "42                            3000 non-null bool\n",
      "43                            3000 non-null bool\n",
      "dtypes: bool(47), float64(2), int64(10)\n",
      "memory usage: 419.1 KB\n"
     ]
    }
   ],
   "source": [
    "data_prep.info()"
   ]
  },
  {
   "cell_type": "markdown",
   "metadata": {},
   "source": [
    "# 5. Explore different models"
   ]
  },
  {
   "cell_type": "code",
   "execution_count": 50,
   "metadata": {},
   "outputs": [
    {
     "name": "stdout",
     "output_type": "stream",
     "text": [
      "<class 'pandas.core.frame.DataFrame'>\n",
      "RangeIndex: 3000 entries, 0 to 2999\n",
      "Data columns (total 59 columns):\n",
      "budget                        3000 non-null int64\n",
      "popularity                    3000 non-null float64\n",
      "runtime                       3000 non-null float64\n",
      "has_collection                3000 non-null bool\n",
      "genres_count                  3000 non-null int64\n",
      "overview_count                3000 non-null bool\n",
      "production_companies_count    3000 non-null int64\n",
      "production_countries_count    3000 non-null int64\n",
      "release_month                 3000 non-null int64\n",
      "release_day                   3000 non-null int64\n",
      "release_year                  3000 non-null int64\n",
      "release_dayofweek             3000 non-null int64\n",
      "cast_count                    3000 non-null int64\n",
      "crew_count                    3000 non-null int64\n",
      "tagline_count                 3000 non-null bool\n",
      "0                             3000 non-null bool\n",
      "1                             3000 non-null bool\n",
      "2                             3000 non-null bool\n",
      "3                             3000 non-null bool\n",
      "4                             3000 non-null bool\n",
      "5                             3000 non-null bool\n",
      "6                             3000 non-null bool\n",
      "7                             3000 non-null bool\n",
      "8                             3000 non-null bool\n",
      "9                             3000 non-null bool\n",
      "10                            3000 non-null bool\n",
      "11                            3000 non-null bool\n",
      "12                            3000 non-null bool\n",
      "13                            3000 non-null bool\n",
      "14                            3000 non-null bool\n",
      "15                            3000 non-null bool\n",
      "16                            3000 non-null bool\n",
      "17                            3000 non-null bool\n",
      "18                            3000 non-null bool\n",
      "19                            3000 non-null bool\n",
      "20                            3000 non-null bool\n",
      "21                            3000 non-null bool\n",
      "22                            3000 non-null bool\n",
      "23                            3000 non-null bool\n",
      "24                            3000 non-null bool\n",
      "25                            3000 non-null bool\n",
      "26                            3000 non-null bool\n",
      "27                            3000 non-null bool\n",
      "28                            3000 non-null bool\n",
      "29                            3000 non-null bool\n",
      "30                            3000 non-null bool\n",
      "31                            3000 non-null bool\n",
      "32                            3000 non-null bool\n",
      "33                            3000 non-null bool\n",
      "34                            3000 non-null bool\n",
      "35                            3000 non-null bool\n",
      "36                            3000 non-null bool\n",
      "37                            3000 non-null bool\n",
      "38                            3000 non-null bool\n",
      "39                            3000 non-null bool\n",
      "40                            3000 non-null bool\n",
      "41                            3000 non-null bool\n",
      "42                            3000 non-null bool\n",
      "43                            3000 non-null bool\n",
      "dtypes: bool(47), float64(2), int64(10)\n",
      "memory usage: 419.1 KB\n"
     ]
    }
   ],
   "source": [
    "data_labels = train['revenue']\n",
    "data_prepared = pipeline(train)\n",
    "data_prepared.info()\n",
    "data_labels_log = np.log1p(data_labels)"
   ]
  },
  {
   "cell_type": "markdown",
   "metadata": {},
   "source": [
    "## linear regression"
   ]
  },
  {
   "cell_type": "code",
   "execution_count": 51,
   "metadata": {},
   "outputs": [
    {
     "name": "stdout",
     "output_type": "stream",
     "text": [
      "2.4820311081351902\n"
     ]
    }
   ],
   "source": [
    "from sklearn.linear_model import LinearRegression\n",
    "lin_reg = LinearRegression()\n",
    "scores = cross_val_score(lin_reg, data_prepared, data_labels_log, scoring=\"neg_mean_squared_error\", cv = 15) #generate the scores from cvs\n",
    "rmse_scores = np.sqrt(-scores) #generate rmse for cvs\n",
    "print(rmse_scores.mean())"
   ]
  },
  {
   "cell_type": "markdown",
   "metadata": {},
   "source": [
    "## Random Forrest Regressor"
   ]
  },
  {
   "cell_type": "code",
   "execution_count": 52,
   "metadata": {},
   "outputs": [],
   "source": [
    "from sklearn.ensemble import RandomForestRegressor\n",
    "rfr_reg = RandomForestRegressor(n_estimators=100)"
   ]
  },
  {
   "cell_type": "code",
   "execution_count": 53,
   "metadata": {},
   "outputs": [
    {
     "name": "stdout",
     "output_type": "stream",
     "text": [
      "2.142150461416663\n"
     ]
    }
   ],
   "source": [
    "scores = cross_val_score(rfr_reg, data_prepared, data_labels_log, scoring=\"neg_mean_squared_error\", cv=15) #generate the scores from cvs\n",
    "rmse_scores = np.sqrt(-scores) #generate rmse for cvs\n",
    "print(rmse_scores.mean())"
   ]
  },
  {
   "cell_type": "markdown",
   "metadata": {},
   "source": [
    "## Using lightgbm as "
   ]
  },
  {
   "cell_type": "code",
   "execution_count": 54,
   "metadata": {},
   "outputs": [],
   "source": [
    "import lightgbm as lgb #Se lgb documentation"
   ]
  },
  {
   "cell_type": "code",
   "execution_count": 55,
   "metadata": {},
   "outputs": [],
   "source": [
    "from sklearn.model_selection import train_test_split\n",
    "X_train, X_test, y_train, y_test = train_test_split(data_prepared, data_labels_log, test_size=0.2)"
   ]
  },
  {
   "cell_type": "code",
   "execution_count": 56,
   "metadata": {},
   "outputs": [
    {
     "name": "stdout",
     "output_type": "stream",
     "text": [
      "Training until validation scores don't improve for 100 rounds\n",
      "Did not meet early stopping. Best iteration is:\n",
      "[100]\ttraining's rmse: 1.12854\ttraining's l2: 1.2736\tvalid_1's rmse: 2.12685\tvalid_1's l2: 4.52351\n"
     ]
    },
    {
     "data": {
      "text/plain": [
       "LGBMRegressor(boosting_type='gbdt', class_weight=None, colsample_bytree=1.0,\n",
       "              importance_type='split', learning_rate=0.1, max_depth=-1,\n",
       "              min_child_samples=20, min_child_weight=0.001, min_split_gain=0.0,\n",
       "              n_estimators=100, n_jobs=-1, num_leaves=31, objective=None,\n",
       "              random_state=None, reg_alpha=0.0, reg_lambda=0.0, silent=True,\n",
       "              subsample=1.0, subsample_for_bin=200000, subsample_freq=0)"
      ]
     },
     "execution_count": 56,
     "metadata": {},
     "output_type": "execute_result"
    }
   ],
   "source": [
    "lgb_model = lgb.LGBMRegressor()\n",
    "lgb_model.fit(X_train, y_train, eval_set=[(X_train, y_train), (X_test, y_test)], eval_metric='rmse', verbose=2000, early_stopping_rounds=100)"
   ]
  },
  {
   "cell_type": "code",
   "execution_count": 57,
   "metadata": {},
   "outputs": [
    {
     "name": "stdout",
     "output_type": "stream",
     "text": [
      "Training until validation scores don't improve for 500 rounds\n",
      "Did not meet early stopping. Best iteration is:\n",
      "[100]\tvalid_0's rmse: 1.20636\tvalid_0's l2: 1.4553\tvalid_1's rmse: 1.17713\tvalid_1's l2: 1.38564\n"
     ]
    }
   ],
   "source": [
    "lgb_model.fit(data_prepared, data_labels_log, eval_set=[(X_train, y_train), (X_test, y_test)], eval_metric='rmse', verbose=2000, early_stopping_rounds=500)\n",
    "y_pred=lgb_model.predict(X_test)"
   ]
  },
  {
   "cell_type": "markdown",
   "metadata": {},
   "source": [
    "### This looks promising."
   ]
  },
  {
   "cell_type": "markdown",
   "metadata": {},
   "source": [
    "## Gradient Booster"
   ]
  },
  {
   "cell_type": "code",
   "execution_count": 59,
   "metadata": {},
   "outputs": [
    {
     "data": {
      "text/plain": [
       "GradientBoostingRegressor(alpha=0.9, criterion='friedman_mse', init=None,\n",
       "                          learning_rate=0.1, loss='ls', max_depth=3,\n",
       "                          max_features=None, max_leaf_nodes=None,\n",
       "                          min_impurity_decrease=0.0, min_impurity_split=None,\n",
       "                          min_samples_leaf=1, min_samples_split=2,\n",
       "                          min_weight_fraction_leaf=0.0, n_estimators=100,\n",
       "                          n_iter_no_change=None, presort='auto',\n",
       "                          random_state=None, subsample=1.0, tol=0.0001,\n",
       "                          validation_fraction=0.1, verbose=0, warm_start=False)"
      ]
     },
     "execution_count": 59,
     "metadata": {},
     "output_type": "execute_result"
    }
   ],
   "source": [
    "from sklearn.ensemble import GradientBoostingRegressor\n",
    "\n",
    "gbr_reg = GradientBoostingRegressor()\n",
    "gbr_reg.fit(data_prepared, data_labels_log)"
   ]
  },
  {
   "cell_type": "code",
   "execution_count": 60,
   "metadata": {},
   "outputs": [
    {
     "name": "stdout",
     "output_type": "stream",
     "text": [
      "2.1222872526869736\n"
     ]
    }
   ],
   "source": [
    "scores = cross_val_score(gbr_reg, \n",
    "                         data_prepared, \n",
    "                         data_labels_log, \n",
    "                         scoring=\"neg_mean_squared_error\", \n",
    "                         cv=10)\n",
    "gbr_reg_rmse_scores = np.sqrt(-scores)\n",
    "print(gbr_reg_rmse_scores.mean())"
   ]
  },
  {
   "cell_type": "code",
   "execution_count": 61,
   "metadata": {},
   "outputs": [
    {
     "data": {
      "text/plain": [
       "VotingRegressor(estimators=[('gb',\n",
       "                             GradientBoostingRegressor(alpha=0.9,\n",
       "                                                       criterion='friedman_mse',\n",
       "                                                       init=None,\n",
       "                                                       learning_rate=0.1,\n",
       "                                                       loss='ls', max_depth=3,\n",
       "                                                       max_features=None,\n",
       "                                                       max_leaf_nodes=None,\n",
       "                                                       min_impurity_decrease=0.0,\n",
       "                                                       min_impurity_split=None,\n",
       "                                                       min_samples_leaf=1,\n",
       "                                                       min_samples_split=2,\n",
       "                                                       min_weight_fraction_leaf=0.0,\n",
       "                                                       n_estimators=100,\n",
       "                                                       n_iter_no_change=None,\n",
       "                                                       presort='a...\n",
       "                                           class_weight=None,\n",
       "                                           colsample_bytree=1.0,\n",
       "                                           importance_type='split',\n",
       "                                           learning_rate=0.1, max_depth=-1,\n",
       "                                           min_child_samples=20,\n",
       "                                           min_child_weight=0.001,\n",
       "                                           min_split_gain=0.0, n_estimators=100,\n",
       "                                           n_jobs=-1, num_leaves=31,\n",
       "                                           objective=None, random_state=None,\n",
       "                                           reg_alpha=0.0, reg_lambda=0.0,\n",
       "                                           silent=True, subsample=1.0,\n",
       "                                           subsample_for_bin=200000,\n",
       "                                           subsample_freq=0))],\n",
       "                n_jobs=None, weights=None)"
      ]
     },
     "execution_count": 61,
     "metadata": {},
     "output_type": "execute_result"
    }
   ],
   "source": [
    "from sklearn.ensemble import VotingRegressor\n",
    "\n",
    "voting_reg = VotingRegressor(estimators=[('gb', gbr_reg), ('rf', rfr_reg), ('lgb', lgb_model)])\n",
    "voting_reg.fit(data_prepared, data_labels_log)"
   ]
  },
  {
   "cell_type": "code",
   "execution_count": 62,
   "metadata": {},
   "outputs": [
    {
     "name": "stdout",
     "output_type": "stream",
     "text": [
      "2.0910881085207196\n"
     ]
    }
   ],
   "source": [
    "scores = cross_val_score(voting_reg, data_prepared, data_labels_log, scoring=\"neg_mean_squared_error\", cv=15) #generate the scores from cvs\n",
    "rmse_scores = np.sqrt(-scores) #generate rmse for cvs\n",
    "print(rmse_scores.mean())"
   ]
  },
  {
   "cell_type": "markdown",
   "metadata": {},
   "source": [
    "### Let's procede with the three: lightGBM model, RandomForrest and Gradient Boosting since they show best performance. The plan is then to combine these into a Voting regressor.\n",
    "### An alternative to the models tried woulf be neural networks, since they tend to perform well, but that would mean scaling the dataset could be necessary as well. Let's procede with the models we've found so far"
   ]
  },
  {
   "cell_type": "markdown",
   "metadata": {},
   "source": [
    "# 6. Fine tune models "
   ]
  },
  {
   "cell_type": "markdown",
   "metadata": {},
   "source": [
    "## WARNING! Gridsearch in this section takes a long time, so think twice before starting a cell."
   ]
  },
  {
   "cell_type": "code",
   "execution_count": 63,
   "metadata": {},
   "outputs": [],
   "source": [
    "from sklearn.model_selection import GridSearchCV\n",
    "\n",
    "param_grid_forest = [\n",
    "    {\n",
    "     'n_estimators':[100,500,800],\n",
    "     'min_samples_split':[2,5,10],\n",
    "     'bootstrap':[True,False], \n",
    "     'max_depth':[3,8,16], \n",
    "     'n_jobs':[-1], \n",
    "     'max_leaf_nodes':[5,10,20]\n",
    "    }\n",
    "]\n"
   ]
  },
  {
   "cell_type": "code",
   "execution_count": 64,
   "metadata": {},
   "outputs": [],
   "source": [
    "forest_reg = RandomForestRegressor()"
   ]
  },
  {
   "cell_type": "code",
   "execution_count": 535,
   "metadata": {},
   "outputs": [
    {
     "data": {
      "text/plain": [
       "GridSearchCV(cv=5, error_score='raise-deprecating',\n",
       "             estimator=RandomForestRegressor(bootstrap=True, criterion='mse',\n",
       "                                             max_depth=None,\n",
       "                                             max_features='auto',\n",
       "                                             max_leaf_nodes=None,\n",
       "                                             min_impurity_decrease=0.0,\n",
       "                                             min_impurity_split=None,\n",
       "                                             min_samples_leaf=1,\n",
       "                                             min_samples_split=2,\n",
       "                                             min_weight_fraction_leaf=0.0,\n",
       "                                             n_estimators='warn', n_jobs=None,\n",
       "                                             oob_score=False, random_state=None,\n",
       "                                             verbose=0, warm_start=False),\n",
       "             iid='warn', n_jobs=None,\n",
       "             param_grid=[{'bootstrap': [True, False], 'max_depth': [3, 8, 16],\n",
       "                          'max_leaf_nodes': [5, 20],\n",
       "                          'min_samples_split': [5, 10],\n",
       "                          'n_estimators': [100, 300, 500], 'n_jobs': [-1],\n",
       "                          'random_state': [0, 1, None]}],\n",
       "             pre_dispatch='2*n_jobs', refit=True, return_train_score=True,\n",
       "             scoring='neg_mean_squared_error', verbose=0)"
      ]
     },
     "execution_count": 535,
     "metadata": {},
     "output_type": "execute_result"
    }
   ],
   "source": [
    "grid_search_fr = GridSearchCV(forest_reg, param_grid_forest, scoring='neg_mean_squared_error', return_train_score=True)\n",
    "grid_search_fr.fit(data_prepared, data_labels_log)"
   ]
  },
  {
   "cell_type": "code",
   "execution_count": 536,
   "metadata": {},
   "outputs": [
    {
     "data": {
      "text/plain": [
       "{'bootstrap': True,\n",
       " 'max_depth': 16,\n",
       " 'max_leaf_nodes': 20,\n",
       " 'min_samples_split': 5,\n",
       " 'n_estimators': 500,\n",
       " 'n_jobs': -1,\n",
       " 'random_state': None}"
      ]
     },
     "execution_count": 536,
     "metadata": {},
     "output_type": "execute_result"
    }
   ],
   "source": [
    "grid_search_fr.best_params_"
   ]
  },
  {
   "cell_type": "code",
   "execution_count": 65,
   "metadata": {},
   "outputs": [],
   "source": [
    "param_grid_gb = [\n",
    "    {'n_estimators':[100,300,1000], \n",
    "     'learning_rate':[0.1,0.01], \n",
    "     'max_depth':[4,12,16], \n",
    "     'max_leaf_nodes':[5,20],\n",
    "     'min_samples_leaf':[5,10]\n",
    "    }\n",
    "]"
   ]
  },
  {
   "cell_type": "code",
   "execution_count": 66,
   "metadata": {},
   "outputs": [],
   "source": [
    "gb_reg = GradientBoostingRegressor()"
   ]
  },
  {
   "cell_type": "code",
   "execution_count": 542,
   "metadata": {},
   "outputs": [
    {
     "data": {
      "text/plain": [
       "GridSearchCV(cv=5, error_score='raise-deprecating',\n",
       "             estimator=GradientBoostingRegressor(alpha=0.9,\n",
       "                                                 criterion='friedman_mse',\n",
       "                                                 init=None, learning_rate=0.1,\n",
       "                                                 loss='ls', max_depth=3,\n",
       "                                                 max_features=None,\n",
       "                                                 max_leaf_nodes=None,\n",
       "                                                 min_impurity_decrease=0.0,\n",
       "                                                 min_impurity_split=None,\n",
       "                                                 min_samples_leaf=1,\n",
       "                                                 min_samples_split=2,\n",
       "                                                 min_weight_fraction_leaf=0.0,\n",
       "                                                 n_estimators=100,\n",
       "                                                 n_iter...\n",
       "                                                 random_state=None,\n",
       "                                                 subsample=1.0, tol=0.0001,\n",
       "                                                 validation_fraction=0.1,\n",
       "                                                 verbose=0, warm_start=False),\n",
       "             iid='warn', n_jobs=None,\n",
       "             param_grid=[{'learning_rate': [0.1, 0.01],\n",
       "                          'max_depth': [4, 12, 16], 'max_leaf_nodes': [5, 20],\n",
       "                          'min_samples_leaf': [5, 10],\n",
       "                          'n_estimators': [100, 300, 1000]}],\n",
       "             pre_dispatch='2*n_jobs', refit=True, return_train_score=True,\n",
       "             scoring='neg_mean_squared_error', verbose=0)"
      ]
     },
     "execution_count": 542,
     "metadata": {},
     "output_type": "execute_result"
    }
   ],
   "source": [
    "grid_search_gb = GridSearchCV(gb_reg, param_grid_gb, cv=5, scoring='neg_mean_squared_error', return_train_score=True)\n",
    "grid_search_gb.fit(data_prepared, data_labels)"
   ]
  },
  {
   "cell_type": "code",
   "execution_count": 544,
   "metadata": {},
   "outputs": [
    {
     "data": {
      "text/plain": [
       "{'learning_rate': 0.1,\n",
       " 'max_depth': 12,\n",
       " 'max_leaf_nodes': 20,\n",
       " 'min_samples_leaf': 5,\n",
       " 'n_estimators': 100}"
      ]
     },
     "execution_count": 544,
     "metadata": {},
     "output_type": "execute_result"
    }
   ],
   "source": [
    "grid_search_gb.best_params_"
   ]
  },
  {
   "cell_type": "markdown",
   "metadata": {},
   "source": [
    "### So far so good, but let try and finetune the lgb regressor:\n",
    "\n",
    "### NOTE: This finetuning was done manually by following the docs on the params for this model"
   ]
  },
  {
   "cell_type": "code",
   "execution_count": 108,
   "metadata": {},
   "outputs": [
    {
     "name": "stdout",
     "output_type": "stream",
     "text": [
      "Training until validation scores don't improve for 300 rounds\n",
      "[5000]\ttraining's rmse: 2.08458\tvalid_1's rmse: 2.15469\n",
      "[10000]\ttraining's rmse: 1.97574\tvalid_1's rmse: 2.10584\n",
      "Early stopping, best iteration is:\n",
      "[12990]\ttraining's rmse: 1.92996\tvalid_1's rmse: 2.08609\n"
     ]
    },
    {
     "data": {
      "text/plain": [
       "LGBMRegressor(bagging_fraction=0.8, bagging_freq=5, bagging_seed=11,\n",
       "              boosting='gbdt', boosting_type='gbdt', class_weight=None,\n",
       "              colsample_bytree=1.0, feature_fraction=0.8,\n",
       "              importance_type='split', lambda_l2=0.1, learning_rate=0.001,\n",
       "              max_bin=255, max_depth=5, metric='rmse', min_child_samples=100,\n",
       "              min_child_weight=0.001, min_data_in_leaf=10, min_split_gain=0.0,\n",
       "              n_estimators=250000, n_jobs=-1, num_leaves=4,\n",
       "              objective='regression', random_state=None, reg_alpha=0.0,\n",
       "              reg_lambda=0.0, silent=True, subsample=0.8,\n",
       "              subsample_for_bin=200000, subsample_freq=0, verbosity=-1)"
      ]
     },
     "execution_count": 108,
     "metadata": {},
     "output_type": "execute_result"
    }
   ],
   "source": [
    "#Parameter tuning for lightbgm is done manually according to the specs in documentation\n",
    "#https://testlightgbm.readthedocs.io/en/latest/Parameters.html\n",
    "#https://testlightgbm.readthedocs.io/en/latest/Parameters-tuning.html\n",
    "\n",
    "params = {\n",
    "         'n_estimators':250000,\n",
    "         'max_bin':255,\n",
    "         'num_leaves': 4,\n",
    "         'min_data_in_leaf': 10,\n",
    "         'objective': 'regression',\n",
    "         'max_depth': 5,\n",
    "         'min_child_samples': 100,\n",
    "         'learning_rate': 0.001,\n",
    "         \"boosting\": \"gbdt\",\n",
    "         \"feature_fraction\": 0.8,\n",
    "         \"bagging_freq\": 5,\n",
    "         \"bagging_fraction\": 0.8,\n",
    "         \"bagging_seed\": 11,\n",
    "         \"metric\": 'rmse',\n",
    "         \"subsample\": .8,\n",
    "         \"lambda_l2\": 0.1, \n",
    "         \"verbosity\": -1,\n",
    "         'n_jobs':-1}\n",
    "\n",
    "lgb_model = lgb.LGBMRegressor(**params)\n",
    "lgb_model.fit(X_train, y_train, eval_set=[(X_train, y_train), (X_test, y_test)], eval_metric='rmse', verbose=5000, early_stopping_rounds=300)"
   ]
  },
  {
   "cell_type": "code",
   "execution_count": 109,
   "metadata": {},
   "outputs": [
    {
     "name": "stdout",
     "output_type": "stream",
     "text": [
      "Training until validation scores don't improve for 100 rounds\n",
      "[25000]\tvalid_0's rmse: 1.82402\tvalid_1's rmse: 1.7468\n",
      "[50000]\tvalid_0's rmse: 1.6798\tvalid_1's rmse: 1.57999\n",
      "[75000]\tvalid_0's rmse: 1.57404\tvalid_1's rmse: 1.4627\n",
      "[100000]\tvalid_0's rmse: 1.48642\tvalid_1's rmse: 1.3726\n",
      "[125000]\tvalid_0's rmse: 1.41015\tvalid_1's rmse: 1.29583\n",
      "[150000]\tvalid_0's rmse: 1.34341\tvalid_1's rmse: 1.23139\n",
      "[175000]\tvalid_0's rmse: 1.28347\tvalid_1's rmse: 1.17553\n",
      "[200000]\tvalid_0's rmse: 1.2292\tvalid_1's rmse: 1.12367\n",
      "[225000]\tvalid_0's rmse: 1.17915\tvalid_1's rmse: 1.07689\n",
      "[250000]\tvalid_0's rmse: 1.1329\tvalid_1's rmse: 1.03368\n",
      "Did not meet early stopping. Best iteration is:\n",
      "[249995]\tvalid_0's rmse: 1.1329\tvalid_1's rmse: 1.03368\n"
     ]
    },
    {
     "data": {
      "text/plain": [
       "LGBMRegressor(bagging_fraction=0.8, bagging_freq=5, bagging_seed=11,\n",
       "              boosting='gbdt', boosting_type='gbdt', class_weight=None,\n",
       "              colsample_bytree=1.0, feature_fraction=0.8,\n",
       "              importance_type='split', lambda_l2=0.1, learning_rate=0.001,\n",
       "              max_bin=255, max_depth=5, metric='rmse', min_child_samples=100,\n",
       "              min_child_weight=0.001, min_data_in_leaf=10, min_split_gain=0.0,\n",
       "              n_estimators=250000, n_jobs=-1, num_leaves=4,\n",
       "              objective='regression', random_state=None, reg_alpha=0.0,\n",
       "              reg_lambda=0.0, silent=True, subsample=0.8,\n",
       "              subsample_for_bin=200000, subsample_freq=0, verbosity=-1)"
      ]
     },
     "execution_count": 109,
     "metadata": {},
     "output_type": "execute_result"
    }
   ],
   "source": [
    "lgb_model.fit(data_prepared, data_labels_log, eval_set=[(X_train, y_train), (X_test, y_test)], eval_metric='rmse', verbose=25000, early_stopping_rounds=100)"
   ]
  },
  {
   "cell_type": "markdown",
   "metadata": {},
   "source": [
    "### The LightGBM model looks very promising, although overfitting still is an option\n",
    "### Let's have a look at the other finetuned regressors and their performance"
   ]
  },
  {
   "cell_type": "code",
   "execution_count": 77,
   "metadata": {},
   "outputs": [],
   "source": [
    "rfr_best = RandomForestRegressor(bootstrap=True,\n",
    "                                 max_depth=16,\n",
    "                                 min_samples_split=5,\n",
    "                                 max_leaf_nodes=20,\n",
    "                                 n_estimators=500,\n",
    "                                 n_jobs=-1,\n",
    "                                 random_state=None)"
   ]
  },
  {
   "cell_type": "code",
   "execution_count": 78,
   "metadata": {},
   "outputs": [],
   "source": [
    "gbr_best = GradientBoostingRegressor(learning_rate=0.1,\n",
    "                                     max_depth=12,\n",
    "                                     max_leaf_nodes=20,\n",
    "                                     n_estimators=100)"
   ]
  },
  {
   "cell_type": "code",
   "execution_count": 79,
   "metadata": {},
   "outputs": [
    {
     "data": {
      "text/plain": [
       "VotingRegressor(estimators=[('gb',\n",
       "                             GradientBoostingRegressor(alpha=0.9,\n",
       "                                                       criterion='friedman_mse',\n",
       "                                                       init=None,\n",
       "                                                       learning_rate=0.1,\n",
       "                                                       loss='ls', max_depth=12,\n",
       "                                                       max_features=None,\n",
       "                                                       max_leaf_nodes=20,\n",
       "                                                       min_impurity_decrease=0.0,\n",
       "                                                       min_impurity_split=None,\n",
       "                                                       min_samples_leaf=1,\n",
       "                                                       min_samples_split=2,\n",
       "                                                       min_weight_fraction_leaf=0.0,\n",
       "                                                       n_estimators=100,\n",
       "                                                       n_iter_no_change=None,\n",
       "                                                       presort='au...\n",
       "                                           lambda_l2=0.1, learning_rate=0.001,\n",
       "                                           max_bin=255, max_depth=5,\n",
       "                                           metric='rmse', min_child_samples=100,\n",
       "                                           min_child_weight=0.001,\n",
       "                                           min_data_in_leaf=10,\n",
       "                                           min_split_gain=0.0,\n",
       "                                           n_estimators=250000, n_jobs=-1,\n",
       "                                           num_leaves=4, objective='regression',\n",
       "                                           random_state=None, reg_alpha=0.0,\n",
       "                                           reg_lambda=0.0, silent=True,\n",
       "                                           subsample=0.8,\n",
       "                                           subsample_for_bin=200000,\n",
       "                                           subsample_freq=0, verbosity=-1))],\n",
       "                n_jobs=None, weights=None)"
      ]
     },
     "execution_count": 79,
     "metadata": {},
     "output_type": "execute_result"
    }
   ],
   "source": [
    "voting_final = VotingRegressor(estimators=[('gb', gbr_best), ('rf', rfr_best), ('lgb', lgb_model)])\n",
    "voting_final.fit(data_prepared, data_labels_log)"
   ]
  },
  {
   "cell_type": "code",
   "execution_count": 81,
   "metadata": {},
   "outputs": [
    {
     "name": "stdout",
     "output_type": "stream",
     "text": [
      "2.21277955920759\n"
     ]
    }
   ],
   "source": [
    "scores = cross_val_score(rfr_best, \n",
    "                         data_prepared, \n",
    "                         data_labels_log, \n",
    "                         scoring=\"neg_mean_squared_error\", \n",
    "                         cv=10)\n",
    "gbr_reg_rmse_scores = np.sqrt(-scores)\n",
    "print(gbr_reg_rmse_scores.mean())"
   ]
  },
  {
   "cell_type": "code",
   "execution_count": 82,
   "metadata": {},
   "outputs": [
    {
     "name": "stdout",
     "output_type": "stream",
     "text": [
      "2.1452273687998242\n"
     ]
    }
   ],
   "source": [
    "scores = cross_val_score(gbr_best, \n",
    "                         data_prepared, \n",
    "                         data_labels_log, \n",
    "                         scoring=\"neg_mean_squared_error\", \n",
    "                         cv=10)\n",
    "gbr_reg_rmse_scores = np.sqrt(-scores)\n",
    "print(gbr_reg_rmse_scores.mean())"
   ]
  },
  {
   "cell_type": "code",
   "execution_count": 83,
   "metadata": {},
   "outputs": [
    {
     "name": "stdout",
     "output_type": "stream",
     "text": [
      "2.100536359411552\n"
     ]
    }
   ],
   "source": [
    "scores = cross_val_score(voting_final, \n",
    "                         data_prepared, \n",
    "                         data_labels_log, \n",
    "                         scoring=\"neg_mean_squared_error\", \n",
    "                         cv=10)\n",
    "gbr_reg_rmse_scores = np.sqrt(-scores)\n",
    "print(gbr_reg_rmse_scores.mean())"
   ]
  },
  {
   "cell_type": "markdown",
   "metadata": {},
   "source": [
    "### It appears that they all perform pretty desent, but not as good as the LighGBM model so let's use that regressor for our solution."
   ]
  },
  {
   "cell_type": "markdown",
   "metadata": {},
   "source": [
    "# 7 + 8. present solution and manitain model"
   ]
  },
  {
   "cell_type": "markdown",
   "metadata": {},
   "source": [
    "### It appears that the lgb regressor is the best working solution, so we'll go with that."
   ]
  },
  {
   "cell_type": "code",
   "execution_count": 94,
   "metadata": {},
   "outputs": [
    {
     "data": {
      "text/html": [
       "<div>\n",
       "<style scoped>\n",
       "    .dataframe tbody tr th:only-of-type {\n",
       "        vertical-align: middle;\n",
       "    }\n",
       "\n",
       "    .dataframe tbody tr th {\n",
       "        vertical-align: top;\n",
       "    }\n",
       "\n",
       "    .dataframe thead th {\n",
       "        text-align: right;\n",
       "    }\n",
       "</style>\n",
       "<table border=\"1\" class=\"dataframe\">\n",
       "  <thead>\n",
       "    <tr style=\"text-align: right;\">\n",
       "      <th></th>\n",
       "      <th>budget</th>\n",
       "      <th>popularity</th>\n",
       "      <th>runtime</th>\n",
       "      <th>has_collection</th>\n",
       "      <th>genres_count</th>\n",
       "      <th>overview_count</th>\n",
       "      <th>production_companies_count</th>\n",
       "      <th>production_countries_count</th>\n",
       "      <th>release_month</th>\n",
       "      <th>release_day</th>\n",
       "      <th>...</th>\n",
       "      <th>34</th>\n",
       "      <th>35</th>\n",
       "      <th>36</th>\n",
       "      <th>37</th>\n",
       "      <th>38</th>\n",
       "      <th>39</th>\n",
       "      <th>40</th>\n",
       "      <th>41</th>\n",
       "      <th>42</th>\n",
       "      <th>43</th>\n",
       "    </tr>\n",
       "  </thead>\n",
       "  <tbody>\n",
       "    <tr>\n",
       "      <td>0</td>\n",
       "      <td>0</td>\n",
       "      <td>3.851534</td>\n",
       "      <td>90.0</td>\n",
       "      <td>True</td>\n",
       "      <td>4</td>\n",
       "      <td>True</td>\n",
       "      <td>0</td>\n",
       "      <td>2</td>\n",
       "      <td>7</td>\n",
       "      <td>14</td>\n",
       "      <td>...</td>\n",
       "      <td>False</td>\n",
       "      <td>False</td>\n",
       "      <td>False</td>\n",
       "      <td>False</td>\n",
       "      <td>False</td>\n",
       "      <td>False</td>\n",
       "      <td>False</td>\n",
       "      <td>False</td>\n",
       "      <td>False</td>\n",
       "      <td>False</td>\n",
       "    </tr>\n",
       "    <tr>\n",
       "      <td>1</td>\n",
       "      <td>88000</td>\n",
       "      <td>3.559789</td>\n",
       "      <td>65.0</td>\n",
       "      <td>False</td>\n",
       "      <td>2</td>\n",
       "      <td>True</td>\n",
       "      <td>1</td>\n",
       "      <td>1</td>\n",
       "      <td>5</td>\n",
       "      <td>19</td>\n",
       "      <td>...</td>\n",
       "      <td>False</td>\n",
       "      <td>False</td>\n",
       "      <td>False</td>\n",
       "      <td>False</td>\n",
       "      <td>False</td>\n",
       "      <td>False</td>\n",
       "      <td>False</td>\n",
       "      <td>False</td>\n",
       "      <td>False</td>\n",
       "      <td>False</td>\n",
       "    </tr>\n",
       "    <tr>\n",
       "      <td>2</td>\n",
       "      <td>0</td>\n",
       "      <td>8.085194</td>\n",
       "      <td>100.0</td>\n",
       "      <td>False</td>\n",
       "      <td>2</td>\n",
       "      <td>True</td>\n",
       "      <td>3</td>\n",
       "      <td>1</td>\n",
       "      <td>5</td>\n",
       "      <td>23</td>\n",
       "      <td>...</td>\n",
       "      <td>False</td>\n",
       "      <td>False</td>\n",
       "      <td>False</td>\n",
       "      <td>False</td>\n",
       "      <td>False</td>\n",
       "      <td>False</td>\n",
       "      <td>False</td>\n",
       "      <td>False</td>\n",
       "      <td>False</td>\n",
       "      <td>False</td>\n",
       "    </tr>\n",
       "    <tr>\n",
       "      <td>3</td>\n",
       "      <td>6800000</td>\n",
       "      <td>8.596012</td>\n",
       "      <td>130.0</td>\n",
       "      <td>False</td>\n",
       "      <td>3</td>\n",
       "      <td>True</td>\n",
       "      <td>3</td>\n",
       "      <td>2</td>\n",
       "      <td>9</td>\n",
       "      <td>4</td>\n",
       "      <td>...</td>\n",
       "      <td>False</td>\n",
       "      <td>False</td>\n",
       "      <td>False</td>\n",
       "      <td>False</td>\n",
       "      <td>False</td>\n",
       "      <td>False</td>\n",
       "      <td>False</td>\n",
       "      <td>False</td>\n",
       "      <td>False</td>\n",
       "      <td>False</td>\n",
       "    </tr>\n",
       "    <tr>\n",
       "      <td>4</td>\n",
       "      <td>2000000</td>\n",
       "      <td>3.217680</td>\n",
       "      <td>92.0</td>\n",
       "      <td>False</td>\n",
       "      <td>2</td>\n",
       "      <td>True</td>\n",
       "      <td>0</td>\n",
       "      <td>1</td>\n",
       "      <td>2</td>\n",
       "      <td>11</td>\n",
       "      <td>...</td>\n",
       "      <td>False</td>\n",
       "      <td>False</td>\n",
       "      <td>False</td>\n",
       "      <td>False</td>\n",
       "      <td>False</td>\n",
       "      <td>False</td>\n",
       "      <td>False</td>\n",
       "      <td>False</td>\n",
       "      <td>False</td>\n",
       "      <td>False</td>\n",
       "    </tr>\n",
       "  </tbody>\n",
       "</table>\n",
       "<p>5 rows × 59 columns</p>\n",
       "</div>"
      ],
      "text/plain": [
       "    budget  popularity  runtime  has_collection  genres_count  overview_count  \\\n",
       "0        0    3.851534     90.0            True             4            True   \n",
       "1    88000    3.559789     65.0           False             2            True   \n",
       "2        0    8.085194    100.0           False             2            True   \n",
       "3  6800000    8.596012    130.0           False             3            True   \n",
       "4  2000000    3.217680     92.0           False             2            True   \n",
       "\n",
       "   production_companies_count  production_countries_count  release_month  \\\n",
       "0                           0                           2              7   \n",
       "1                           1                           1              5   \n",
       "2                           3                           1              5   \n",
       "3                           3                           2              9   \n",
       "4                           0                           1              2   \n",
       "\n",
       "   release_day  ...     34     35     36     37     38     39     40     41  \\\n",
       "0           14  ...  False  False  False  False  False  False  False  False   \n",
       "1           19  ...  False  False  False  False  False  False  False  False   \n",
       "2           23  ...  False  False  False  False  False  False  False  False   \n",
       "3            4  ...  False  False  False  False  False  False  False  False   \n",
       "4           11  ...  False  False  False  False  False  False  False  False   \n",
       "\n",
       "      42     43  \n",
       "0  False  False  \n",
       "1  False  False  \n",
       "2  False  False  \n",
       "3  False  False  \n",
       "4  False  False  \n",
       "\n",
       "[5 rows x 59 columns]"
      ]
     },
     "execution_count": 94,
     "metadata": {},
     "output_type": "execute_result"
    }
   ],
   "source": [
    "test_prep = pipeline(test)\n",
    "test_prep.head()"
   ]
  },
  {
   "cell_type": "code",
   "execution_count": 110,
   "metadata": {},
   "outputs": [],
   "source": [
    "result_lgb_reg = lgb_model.predict(test_prep)"
   ]
  },
  {
   "cell_type": "code",
   "execution_count": 111,
   "metadata": {},
   "outputs": [
    {
     "data": {
      "text/plain": [
       "59437991.85032875"
      ]
     },
     "execution_count": 111,
     "metadata": {},
     "output_type": "execute_result"
    }
   ],
   "source": [
    "result_lgb_reg_norm = np.exp(result_lgb_reg)\n",
    "np.mean(result_lgb_reg_norm)"
   ]
  },
  {
   "cell_type": "code",
   "execution_count": 112,
   "metadata": {},
   "outputs": [
    {
     "data": {
      "text/plain": [
       "4398"
      ]
     },
     "execution_count": 112,
     "metadata": {},
     "output_type": "execute_result"
    }
   ],
   "source": [
    "result = pd.DataFrame(result_lgb_reg_norm)\n",
    "result.columns = ['revenue']\n",
    "result.index = test['id']\n",
    "result.to_csv('./data/submission_5_lgb.csv')\n",
    "len(result)"
   ]
  },
  {
   "cell_type": "markdown",
   "metadata": {},
   "source": [
    "## The lgb model gave a final score of 2.046 (RMSLE) on the Kaggle leaderboard, which is just a tad better than the voting regressor. \n",
    "## This most likely comes down to the fact the this model is in fact better trained with more precise hyperparameters. It must therefore be underperforming on the cross validation methods used in part 6."
   ]
  },
  {
   "cell_type": "code",
   "execution_count": 113,
   "metadata": {},
   "outputs": [
    {
     "data": {
      "image/png": "[encoded data removed]",
      "text/plain": [
       "<Figure size 432x288 with 1 Axes>"
      ]
     },
     "metadata": {
      "needs_background": "light"
     },
     "output_type": "display_data"
    }
   ],
   "source": [
    "plot_lgb=lgb.plot_importance(lgb_model)"
   ]
  },
  {
   "cell_type": "markdown",
   "metadata": {},
   "source": [
    "### We do see that the model weights popularity really high, which may be why it is overfitting. "
   ]
  }
 ],
 "metadata": {
  "kernelspec": {
   "display_name": "DAT158",
   "language": "python",
   "name": "dat158"
  },
  "language_info": {
   "codemirror_mode": {
    "name": "ipython",
    "version": 3
   },
   "file_extension": ".py",
   "mimetype": "text/x-python",
   "name": "python",
   "nbconvert_exporter": "python",
   "pygments_lexer": "ipython3",
   "version": "3.7.4"
  }
 },
 "nbformat": 4,
 "nbformat_minor": 4
}
