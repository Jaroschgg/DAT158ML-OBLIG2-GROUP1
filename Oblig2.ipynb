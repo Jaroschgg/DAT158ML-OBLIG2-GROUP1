{
 "cells": [
  {
   "cell_type": "markdown",
   "metadata": {},
   "source": [
    "# SETUP"
   ]
  },
  {
   "cell_type": "code",
   "execution_count": null,
   "metadata": {},
   "outputs": [],
   "source": []
  },
  {
   "cell_type": "markdown",
   "metadata": {},
   "source": [
    "Need the standard framework:\n"
   ]
  },
  {
   "cell_type": "code",
   "execution_count": 1,
   "metadata": {},
   "outputs": [],
   "source": [
    "# To automatically reload modules defined in external files.\n",
    "%reload_ext autoreload\n",
    "%autoreload 2\n",
    "\n",
    "# To display plots directly in the notebook:\n",
    "%matplotlib inline"
   ]
  },
  {
   "cell_type": "code",
   "execution_count": 2,
   "metadata": {},
   "outputs": [],
   "source": [
    "from pathlib import Path\n",
    "import numpy as np\n",
    "import pandas as pd\n",
    "import matplotlib.pyplot as plt\n",
    "import matplotlib\n",
    "import sklearn\n",
    "\n",
    "import seaborn as sns # For nicer plots"
   ]
  },
  {
   "cell_type": "code",
   "execution_count": 3,
   "metadata": {},
   "outputs": [],
   "source": [
    "# To make the notebook reproducible\n",
    "seed = 42\n",
    "np.random.seed(seed)"
   ]
  },
  {
   "cell_type": "markdown",
   "metadata": {},
   "source": [
    "# Get some insight of the data"
   ]
  },
  {
   "cell_type": "code",
   "execution_count": 4,
   "metadata": {},
   "outputs": [
    {
     "data": {
      "text/plain": [
       "['sample_submission.csv', 'test.csv', 'train.csv']"
      ]
     },
     "execution_count": 4,
     "metadata": {},
     "output_type": "execute_result"
    }
   ],
   "source": [
    "import os\n",
    "os.listdir(\"data\")"
   ]
  },
  {
   "cell_type": "code",
   "execution_count": 5,
   "metadata": {},
   "outputs": [],
   "source": [
    "#Reads the csv files and creates a dataframe\n",
    "\n",
    "train = pd.read_csv('data/train.csv')\n",
    "test = pd.read_csv('data/test.csv')"
   ]
  },
  {
   "cell_type": "code",
   "execution_count": 6,
   "metadata": {},
   "outputs": [
    {
     "data": {
      "text/html": [
       "<div>\n",
       "<style scoped>\n",
       "    .dataframe tbody tr th:only-of-type {\n",
       "        vertical-align: middle;\n",
       "    }\n",
       "\n",
       "    .dataframe tbody tr th {\n",
       "        vertical-align: top;\n",
       "    }\n",
       "\n",
       "    .dataframe thead th {\n",
       "        text-align: right;\n",
       "    }\n",
       "</style>\n",
       "<table border=\"1\" class=\"dataframe\">\n",
       "  <thead>\n",
       "    <tr style=\"text-align: right;\">\n",
       "      <th></th>\n",
       "      <th>id</th>\n",
       "      <th>belongs_to_collection</th>\n",
       "      <th>budget</th>\n",
       "      <th>genres</th>\n",
       "      <th>homepage</th>\n",
       "      <th>imdb_id</th>\n",
       "      <th>original_language</th>\n",
       "      <th>original_title</th>\n",
       "      <th>overview</th>\n",
       "      <th>popularity</th>\n",
       "      <th>...</th>\n",
       "      <th>release_date</th>\n",
       "      <th>runtime</th>\n",
       "      <th>spoken_languages</th>\n",
       "      <th>status</th>\n",
       "      <th>tagline</th>\n",
       "      <th>title</th>\n",
       "      <th>Keywords</th>\n",
       "      <th>cast</th>\n",
       "      <th>crew</th>\n",
       "      <th>revenue</th>\n",
       "    </tr>\n",
       "  </thead>\n",
       "  <tbody>\n",
       "    <tr>\n",
       "      <td>0</td>\n",
       "      <td>1</td>\n",
       "      <td>[{'id': 313576, 'name': 'Hot Tub Time Machine ...</td>\n",
       "      <td>14000000</td>\n",
       "      <td>[{'id': 35, 'name': 'Comedy'}]</td>\n",
       "      <td>NaN</td>\n",
       "      <td>tt2637294</td>\n",
       "      <td>en</td>\n",
       "      <td>Hot Tub Time Machine 2</td>\n",
       "      <td>When Lou, who has become the \"father of the In...</td>\n",
       "      <td>6.575393</td>\n",
       "      <td>...</td>\n",
       "      <td>2/20/15</td>\n",
       "      <td>93.0</td>\n",
       "      <td>[{'iso_639_1': 'en', 'name': 'English'}]</td>\n",
       "      <td>Released</td>\n",
       "      <td>The Laws of Space and Time are About to be Vio...</td>\n",
       "      <td>Hot Tub Time Machine 2</td>\n",
       "      <td>[{'id': 4379, 'name': 'time travel'}, {'id': 9...</td>\n",
       "      <td>[{'cast_id': 4, 'character': 'Lou', 'credit_id...</td>\n",
       "      <td>[{'credit_id': '59ac067c92514107af02c8c8', 'de...</td>\n",
       "      <td>12314651</td>\n",
       "    </tr>\n",
       "    <tr>\n",
       "      <td>1</td>\n",
       "      <td>2</td>\n",
       "      <td>[{'id': 107674, 'name': 'The Princess Diaries ...</td>\n",
       "      <td>40000000</td>\n",
       "      <td>[{'id': 35, 'name': 'Comedy'}, {'id': 18, 'nam...</td>\n",
       "      <td>NaN</td>\n",
       "      <td>tt0368933</td>\n",
       "      <td>en</td>\n",
       "      <td>The Princess Diaries 2: Royal Engagement</td>\n",
       "      <td>Mia Thermopolis is now a college graduate and ...</td>\n",
       "      <td>8.248895</td>\n",
       "      <td>...</td>\n",
       "      <td>8/6/04</td>\n",
       "      <td>113.0</td>\n",
       "      <td>[{'iso_639_1': 'en', 'name': 'English'}]</td>\n",
       "      <td>Released</td>\n",
       "      <td>It can take a lifetime to find true love; she'...</td>\n",
       "      <td>The Princess Diaries 2: Royal Engagement</td>\n",
       "      <td>[{'id': 2505, 'name': 'coronation'}, {'id': 42...</td>\n",
       "      <td>[{'cast_id': 1, 'character': 'Mia Thermopolis'...</td>\n",
       "      <td>[{'credit_id': '52fe43fe9251416c7502563d', 'de...</td>\n",
       "      <td>95149435</td>\n",
       "    </tr>\n",
       "    <tr>\n",
       "      <td>2</td>\n",
       "      <td>3</td>\n",
       "      <td>NaN</td>\n",
       "      <td>3300000</td>\n",
       "      <td>[{'id': 18, 'name': 'Drama'}]</td>\n",
       "      <td>http://sonyclassics.com/whiplash/</td>\n",
       "      <td>tt2582802</td>\n",
       "      <td>en</td>\n",
       "      <td>Whiplash</td>\n",
       "      <td>Under the direction of a ruthless instructor, ...</td>\n",
       "      <td>64.299990</td>\n",
       "      <td>...</td>\n",
       "      <td>10/10/14</td>\n",
       "      <td>105.0</td>\n",
       "      <td>[{'iso_639_1': 'en', 'name': 'English'}]</td>\n",
       "      <td>Released</td>\n",
       "      <td>The road to greatness can take you to the edge.</td>\n",
       "      <td>Whiplash</td>\n",
       "      <td>[{'id': 1416, 'name': 'jazz'}, {'id': 1523, 'n...</td>\n",
       "      <td>[{'cast_id': 5, 'character': 'Andrew Neimann',...</td>\n",
       "      <td>[{'credit_id': '54d5356ec3a3683ba0000039', 'de...</td>\n",
       "      <td>13092000</td>\n",
       "    </tr>\n",
       "    <tr>\n",
       "      <td>3</td>\n",
       "      <td>4</td>\n",
       "      <td>NaN</td>\n",
       "      <td>1200000</td>\n",
       "      <td>[{'id': 53, 'name': 'Thriller'}, {'id': 18, 'n...</td>\n",
       "      <td>http://kahaanithefilm.com/</td>\n",
       "      <td>tt1821480</td>\n",
       "      <td>hi</td>\n",
       "      <td>Kahaani</td>\n",
       "      <td>Vidya Bagchi (Vidya Balan) arrives in Kolkata ...</td>\n",
       "      <td>3.174936</td>\n",
       "      <td>...</td>\n",
       "      <td>3/9/12</td>\n",
       "      <td>122.0</td>\n",
       "      <td>[{'iso_639_1': 'en', 'name': 'English'}, {'iso...</td>\n",
       "      <td>Released</td>\n",
       "      <td>NaN</td>\n",
       "      <td>Kahaani</td>\n",
       "      <td>[{'id': 10092, 'name': 'mystery'}, {'id': 1054...</td>\n",
       "      <td>[{'cast_id': 1, 'character': 'Vidya Bagchi', '...</td>\n",
       "      <td>[{'credit_id': '52fe48779251416c9108d6eb', 'de...</td>\n",
       "      <td>16000000</td>\n",
       "    </tr>\n",
       "    <tr>\n",
       "      <td>4</td>\n",
       "      <td>5</td>\n",
       "      <td>NaN</td>\n",
       "      <td>0</td>\n",
       "      <td>[{'id': 28, 'name': 'Action'}, {'id': 53, 'nam...</td>\n",
       "      <td>NaN</td>\n",
       "      <td>tt1380152</td>\n",
       "      <td>ko</td>\n",
       "      <td>마린보이</td>\n",
       "      <td>Marine Boy is the story of a former national s...</td>\n",
       "      <td>1.148070</td>\n",
       "      <td>...</td>\n",
       "      <td>2/5/09</td>\n",
       "      <td>118.0</td>\n",
       "      <td>[{'iso_639_1': 'ko', 'name': '한국어/조선말'}]</td>\n",
       "      <td>Released</td>\n",
       "      <td>NaN</td>\n",
       "      <td>Marine Boy</td>\n",
       "      <td>NaN</td>\n",
       "      <td>[{'cast_id': 3, 'character': 'Chun-soo', 'cred...</td>\n",
       "      <td>[{'credit_id': '52fe464b9251416c75073b43', 'de...</td>\n",
       "      <td>3923970</td>\n",
       "    </tr>\n",
       "  </tbody>\n",
       "</table>\n",
       "<p>5 rows × 23 columns</p>\n",
       "</div>"
      ],
      "text/plain": [
       "   id                              belongs_to_collection    budget  \\\n",
       "0   1  [{'id': 313576, 'name': 'Hot Tub Time Machine ...  14000000   \n",
       "1   2  [{'id': 107674, 'name': 'The Princess Diaries ...  40000000   \n",
       "2   3                                                NaN   3300000   \n",
       "3   4                                                NaN   1200000   \n",
       "4   5                                                NaN         0   \n",
       "\n",
       "                                              genres  \\\n",
       "0                     [{'id': 35, 'name': 'Comedy'}]   \n",
       "1  [{'id': 35, 'name': 'Comedy'}, {'id': 18, 'nam...   \n",
       "2                      [{'id': 18, 'name': 'Drama'}]   \n",
       "3  [{'id': 53, 'name': 'Thriller'}, {'id': 18, 'n...   \n",
       "4  [{'id': 28, 'name': 'Action'}, {'id': 53, 'nam...   \n",
       "\n",
       "                            homepage    imdb_id original_language  \\\n",
       "0                                NaN  tt2637294                en   \n",
       "1                                NaN  tt0368933                en   \n",
       "2  http://sonyclassics.com/whiplash/  tt2582802                en   \n",
       "3         http://kahaanithefilm.com/  tt1821480                hi   \n",
       "4                                NaN  tt1380152                ko   \n",
       "\n",
       "                             original_title  \\\n",
       "0                    Hot Tub Time Machine 2   \n",
       "1  The Princess Diaries 2: Royal Engagement   \n",
       "2                                  Whiplash   \n",
       "3                                   Kahaani   \n",
       "4                                      마린보이   \n",
       "\n",
       "                                            overview  popularity  ...  \\\n",
       "0  When Lou, who has become the \"father of the In...    6.575393  ...   \n",
       "1  Mia Thermopolis is now a college graduate and ...    8.248895  ...   \n",
       "2  Under the direction of a ruthless instructor, ...   64.299990  ...   \n",
       "3  Vidya Bagchi (Vidya Balan) arrives in Kolkata ...    3.174936  ...   \n",
       "4  Marine Boy is the story of a former national s...    1.148070  ...   \n",
       "\n",
       "  release_date runtime                                   spoken_languages  \\\n",
       "0      2/20/15    93.0           [{'iso_639_1': 'en', 'name': 'English'}]   \n",
       "1       8/6/04   113.0           [{'iso_639_1': 'en', 'name': 'English'}]   \n",
       "2     10/10/14   105.0           [{'iso_639_1': 'en', 'name': 'English'}]   \n",
       "3       3/9/12   122.0  [{'iso_639_1': 'en', 'name': 'English'}, {'iso...   \n",
       "4       2/5/09   118.0           [{'iso_639_1': 'ko', 'name': '한국어/조선말'}]   \n",
       "\n",
       "     status                                            tagline  \\\n",
       "0  Released  The Laws of Space and Time are About to be Vio...   \n",
       "1  Released  It can take a lifetime to find true love; she'...   \n",
       "2  Released    The road to greatness can take you to the edge.   \n",
       "3  Released                                                NaN   \n",
       "4  Released                                                NaN   \n",
       "\n",
       "                                      title  \\\n",
       "0                    Hot Tub Time Machine 2   \n",
       "1  The Princess Diaries 2: Royal Engagement   \n",
       "2                                  Whiplash   \n",
       "3                                   Kahaani   \n",
       "4                                Marine Boy   \n",
       "\n",
       "                                            Keywords  \\\n",
       "0  [{'id': 4379, 'name': 'time travel'}, {'id': 9...   \n",
       "1  [{'id': 2505, 'name': 'coronation'}, {'id': 42...   \n",
       "2  [{'id': 1416, 'name': 'jazz'}, {'id': 1523, 'n...   \n",
       "3  [{'id': 10092, 'name': 'mystery'}, {'id': 1054...   \n",
       "4                                                NaN   \n",
       "\n",
       "                                                cast  \\\n",
       "0  [{'cast_id': 4, 'character': 'Lou', 'credit_id...   \n",
       "1  [{'cast_id': 1, 'character': 'Mia Thermopolis'...   \n",
       "2  [{'cast_id': 5, 'character': 'Andrew Neimann',...   \n",
       "3  [{'cast_id': 1, 'character': 'Vidya Bagchi', '...   \n",
       "4  [{'cast_id': 3, 'character': 'Chun-soo', 'cred...   \n",
       "\n",
       "                                                crew   revenue  \n",
       "0  [{'credit_id': '59ac067c92514107af02c8c8', 'de...  12314651  \n",
       "1  [{'credit_id': '52fe43fe9251416c7502563d', 'de...  95149435  \n",
       "2  [{'credit_id': '54d5356ec3a3683ba0000039', 'de...  13092000  \n",
       "3  [{'credit_id': '52fe48779251416c9108d6eb', 'de...  16000000  \n",
       "4  [{'credit_id': '52fe464b9251416c75073b43', 'de...   3923970  \n",
       "\n",
       "[5 rows x 23 columns]"
      ]
     },
     "execution_count": 6,
     "metadata": {},
     "output_type": "execute_result"
    }
   ],
   "source": [
    "train.head()"
   ]
  },
  {
   "cell_type": "code",
   "execution_count": 7,
   "metadata": {},
   "outputs": [
    {
     "data": {
      "text/html": [
       "<div>\n",
       "<style scoped>\n",
       "    .dataframe tbody tr th:only-of-type {\n",
       "        vertical-align: middle;\n",
       "    }\n",
       "\n",
       "    .dataframe tbody tr th {\n",
       "        vertical-align: top;\n",
       "    }\n",
       "\n",
       "    .dataframe thead th {\n",
       "        text-align: right;\n",
       "    }\n",
       "</style>\n",
       "<table border=\"1\" class=\"dataframe\">\n",
       "  <thead>\n",
       "    <tr style=\"text-align: right;\">\n",
       "      <th></th>\n",
       "      <th>id</th>\n",
       "      <th>belongs_to_collection</th>\n",
       "      <th>budget</th>\n",
       "      <th>genres</th>\n",
       "      <th>homepage</th>\n",
       "      <th>imdb_id</th>\n",
       "      <th>original_language</th>\n",
       "      <th>original_title</th>\n",
       "      <th>overview</th>\n",
       "      <th>popularity</th>\n",
       "      <th>...</th>\n",
       "      <th>production_countries</th>\n",
       "      <th>release_date</th>\n",
       "      <th>runtime</th>\n",
       "      <th>spoken_languages</th>\n",
       "      <th>status</th>\n",
       "      <th>tagline</th>\n",
       "      <th>title</th>\n",
       "      <th>Keywords</th>\n",
       "      <th>cast</th>\n",
       "      <th>crew</th>\n",
       "    </tr>\n",
       "  </thead>\n",
       "  <tbody>\n",
       "    <tr>\n",
       "      <td>0</td>\n",
       "      <td>3001</td>\n",
       "      <td>[{'id': 34055, 'name': 'Pokémon Collection', '...</td>\n",
       "      <td>0</td>\n",
       "      <td>[{'id': 12, 'name': 'Adventure'}, {'id': 16, '...</td>\n",
       "      <td>http://www.pokemon.com/us/movies/movie-pokemon...</td>\n",
       "      <td>tt1226251</td>\n",
       "      <td>ja</td>\n",
       "      <td>ディアルガVSパルキアVSダークライ</td>\n",
       "      <td>Ash and friends (this time accompanied by newc...</td>\n",
       "      <td>3.851534</td>\n",
       "      <td>...</td>\n",
       "      <td>[{'iso_3166_1': 'JP', 'name': 'Japan'}, {'iso_...</td>\n",
       "      <td>7/14/07</td>\n",
       "      <td>90.0</td>\n",
       "      <td>[{'iso_639_1': 'en', 'name': 'English'}, {'iso...</td>\n",
       "      <td>Released</td>\n",
       "      <td>Somewhere Between Time &amp; Space... A Legend Is ...</td>\n",
       "      <td>Pokémon: The Rise of Darkrai</td>\n",
       "      <td>[{'id': 11451, 'name': 'pok√©mon'}, {'id': 115...</td>\n",
       "      <td>[{'cast_id': 3, 'character': 'Tonio', 'credit_...</td>\n",
       "      <td>[{'credit_id': '52fe44e7c3a368484e03d683', 'de...</td>\n",
       "    </tr>\n",
       "    <tr>\n",
       "      <td>1</td>\n",
       "      <td>3002</td>\n",
       "      <td>NaN</td>\n",
       "      <td>88000</td>\n",
       "      <td>[{'id': 27, 'name': 'Horror'}, {'id': 878, 'na...</td>\n",
       "      <td>NaN</td>\n",
       "      <td>tt0051380</td>\n",
       "      <td>en</td>\n",
       "      <td>Attack of the 50 Foot Woman</td>\n",
       "      <td>When an abused wife grows to giant size becaus...</td>\n",
       "      <td>3.559789</td>\n",
       "      <td>...</td>\n",
       "      <td>[{'iso_3166_1': 'US', 'name': 'United States o...</td>\n",
       "      <td>5/19/58</td>\n",
       "      <td>65.0</td>\n",
       "      <td>[{'iso_639_1': 'en', 'name': 'English'}]</td>\n",
       "      <td>Released</td>\n",
       "      <td>A titanic beauty spreads a macabre wave of hor...</td>\n",
       "      <td>Attack of the 50 Foot Woman</td>\n",
       "      <td>[{'id': 9748, 'name': 'revenge'}, {'id': 9951,...</td>\n",
       "      <td>[{'cast_id': 2, 'character': 'Nancy Fowler Arc...</td>\n",
       "      <td>[{'credit_id': '55807805c3a3685b1300060b', 'de...</td>\n",
       "    </tr>\n",
       "    <tr>\n",
       "      <td>2</td>\n",
       "      <td>3003</td>\n",
       "      <td>NaN</td>\n",
       "      <td>0</td>\n",
       "      <td>[{'id': 35, 'name': 'Comedy'}, {'id': 10749, '...</td>\n",
       "      <td>NaN</td>\n",
       "      <td>tt0118556</td>\n",
       "      <td>en</td>\n",
       "      <td>Addicted to Love</td>\n",
       "      <td>Good-natured astronomer Sam is devastated when...</td>\n",
       "      <td>8.085194</td>\n",
       "      <td>...</td>\n",
       "      <td>[{'iso_3166_1': 'US', 'name': 'United States o...</td>\n",
       "      <td>5/23/97</td>\n",
       "      <td>100.0</td>\n",
       "      <td>[{'iso_639_1': 'en', 'name': 'English'}]</td>\n",
       "      <td>Released</td>\n",
       "      <td>A Comedy About Lost Loves And Last Laughs</td>\n",
       "      <td>Addicted to Love</td>\n",
       "      <td>[{'id': 931, 'name': 'jealousy'}, {'id': 9673,...</td>\n",
       "      <td>[{'cast_id': 11, 'character': 'Maggie', 'credi...</td>\n",
       "      <td>[{'credit_id': '52fe4330c3a36847f8041367', 'de...</td>\n",
       "    </tr>\n",
       "    <tr>\n",
       "      <td>3</td>\n",
       "      <td>3004</td>\n",
       "      <td>NaN</td>\n",
       "      <td>6800000</td>\n",
       "      <td>[{'id': 18, 'name': 'Drama'}, {'id': 10752, 'n...</td>\n",
       "      <td>http://www.sonyclassics.com/incendies/</td>\n",
       "      <td>tt1255953</td>\n",
       "      <td>fr</td>\n",
       "      <td>Incendies</td>\n",
       "      <td>A mother's last wishes send twins Jeanne and S...</td>\n",
       "      <td>8.596012</td>\n",
       "      <td>...</td>\n",
       "      <td>[{'iso_3166_1': 'CA', 'name': 'Canada'}, {'iso...</td>\n",
       "      <td>9/4/10</td>\n",
       "      <td>130.0</td>\n",
       "      <td>[{'iso_639_1': 'fr', 'name': 'Français'}, {'is...</td>\n",
       "      <td>Released</td>\n",
       "      <td>The search began at the opening of their mothe...</td>\n",
       "      <td>Incendies</td>\n",
       "      <td>[{'id': 378, 'name': 'prison'}, {'id': 539, 'n...</td>\n",
       "      <td>[{'cast_id': 6, 'character': 'Nawal', 'credit_...</td>\n",
       "      <td>[{'credit_id': '56478092c3a36826140043af', 'de...</td>\n",
       "    </tr>\n",
       "    <tr>\n",
       "      <td>4</td>\n",
       "      <td>3005</td>\n",
       "      <td>NaN</td>\n",
       "      <td>2000000</td>\n",
       "      <td>[{'id': 36, 'name': 'History'}, {'id': 99, 'na...</td>\n",
       "      <td>NaN</td>\n",
       "      <td>tt0418753</td>\n",
       "      <td>en</td>\n",
       "      <td>Inside Deep Throat</td>\n",
       "      <td>In 1972, a seemingly typical shoestring budget...</td>\n",
       "      <td>3.217680</td>\n",
       "      <td>...</td>\n",
       "      <td>[{'iso_3166_1': 'US', 'name': 'United States o...</td>\n",
       "      <td>2/11/05</td>\n",
       "      <td>92.0</td>\n",
       "      <td>[{'iso_639_1': 'en', 'name': 'English'}]</td>\n",
       "      <td>Released</td>\n",
       "      <td>It was filmed in 6 days for 25 thousand dollar...</td>\n",
       "      <td>Inside Deep Throat</td>\n",
       "      <td>[{'id': 279, 'name': 'usa'}, {'id': 1228, 'nam...</td>\n",
       "      <td>[{'cast_id': 1, 'character': 'Narrator (voice)...</td>\n",
       "      <td>[{'credit_id': '52fe44ce9251416c75041967', 'de...</td>\n",
       "    </tr>\n",
       "  </tbody>\n",
       "</table>\n",
       "<p>5 rows × 22 columns</p>\n",
       "</div>"
      ],
      "text/plain": [
       "     id                              belongs_to_collection   budget  \\\n",
       "0  3001  [{'id': 34055, 'name': 'Pokémon Collection', '...        0   \n",
       "1  3002                                                NaN    88000   \n",
       "2  3003                                                NaN        0   \n",
       "3  3004                                                NaN  6800000   \n",
       "4  3005                                                NaN  2000000   \n",
       "\n",
       "                                              genres  \\\n",
       "0  [{'id': 12, 'name': 'Adventure'}, {'id': 16, '...   \n",
       "1  [{'id': 27, 'name': 'Horror'}, {'id': 878, 'na...   \n",
       "2  [{'id': 35, 'name': 'Comedy'}, {'id': 10749, '...   \n",
       "3  [{'id': 18, 'name': 'Drama'}, {'id': 10752, 'n...   \n",
       "4  [{'id': 36, 'name': 'History'}, {'id': 99, 'na...   \n",
       "\n",
       "                                            homepage    imdb_id  \\\n",
       "0  http://www.pokemon.com/us/movies/movie-pokemon...  tt1226251   \n",
       "1                                                NaN  tt0051380   \n",
       "2                                                NaN  tt0118556   \n",
       "3             http://www.sonyclassics.com/incendies/  tt1255953   \n",
       "4                                                NaN  tt0418753   \n",
       "\n",
       "  original_language               original_title  \\\n",
       "0                ja           ディアルガVSパルキアVSダークライ   \n",
       "1                en  Attack of the 50 Foot Woman   \n",
       "2                en             Addicted to Love   \n",
       "3                fr                    Incendies   \n",
       "4                en           Inside Deep Throat   \n",
       "\n",
       "                                            overview  popularity  ...  \\\n",
       "0  Ash and friends (this time accompanied by newc...    3.851534  ...   \n",
       "1  When an abused wife grows to giant size becaus...    3.559789  ...   \n",
       "2  Good-natured astronomer Sam is devastated when...    8.085194  ...   \n",
       "3  A mother's last wishes send twins Jeanne and S...    8.596012  ...   \n",
       "4  In 1972, a seemingly typical shoestring budget...    3.217680  ...   \n",
       "\n",
       "                                production_countries release_date runtime  \\\n",
       "0  [{'iso_3166_1': 'JP', 'name': 'Japan'}, {'iso_...      7/14/07    90.0   \n",
       "1  [{'iso_3166_1': 'US', 'name': 'United States o...      5/19/58    65.0   \n",
       "2  [{'iso_3166_1': 'US', 'name': 'United States o...      5/23/97   100.0   \n",
       "3  [{'iso_3166_1': 'CA', 'name': 'Canada'}, {'iso...       9/4/10   130.0   \n",
       "4  [{'iso_3166_1': 'US', 'name': 'United States o...      2/11/05    92.0   \n",
       "\n",
       "                                    spoken_languages    status  \\\n",
       "0  [{'iso_639_1': 'en', 'name': 'English'}, {'iso...  Released   \n",
       "1           [{'iso_639_1': 'en', 'name': 'English'}]  Released   \n",
       "2           [{'iso_639_1': 'en', 'name': 'English'}]  Released   \n",
       "3  [{'iso_639_1': 'fr', 'name': 'Français'}, {'is...  Released   \n",
       "4           [{'iso_639_1': 'en', 'name': 'English'}]  Released   \n",
       "\n",
       "                                             tagline  \\\n",
       "0  Somewhere Between Time & Space... A Legend Is ...   \n",
       "1  A titanic beauty spreads a macabre wave of hor...   \n",
       "2          A Comedy About Lost Loves And Last Laughs   \n",
       "3  The search began at the opening of their mothe...   \n",
       "4  It was filmed in 6 days for 25 thousand dollar...   \n",
       "\n",
       "                          title  \\\n",
       "0  Pokémon: The Rise of Darkrai   \n",
       "1   Attack of the 50 Foot Woman   \n",
       "2              Addicted to Love   \n",
       "3                     Incendies   \n",
       "4            Inside Deep Throat   \n",
       "\n",
       "                                            Keywords  \\\n",
       "0  [{'id': 11451, 'name': 'pok√©mon'}, {'id': 115...   \n",
       "1  [{'id': 9748, 'name': 'revenge'}, {'id': 9951,...   \n",
       "2  [{'id': 931, 'name': 'jealousy'}, {'id': 9673,...   \n",
       "3  [{'id': 378, 'name': 'prison'}, {'id': 539, 'n...   \n",
       "4  [{'id': 279, 'name': 'usa'}, {'id': 1228, 'nam...   \n",
       "\n",
       "                                                cast  \\\n",
       "0  [{'cast_id': 3, 'character': 'Tonio', 'credit_...   \n",
       "1  [{'cast_id': 2, 'character': 'Nancy Fowler Arc...   \n",
       "2  [{'cast_id': 11, 'character': 'Maggie', 'credi...   \n",
       "3  [{'cast_id': 6, 'character': 'Nawal', 'credit_...   \n",
       "4  [{'cast_id': 1, 'character': 'Narrator (voice)...   \n",
       "\n",
       "                                                crew  \n",
       "0  [{'credit_id': '52fe44e7c3a368484e03d683', 'de...  \n",
       "1  [{'credit_id': '55807805c3a3685b1300060b', 'de...  \n",
       "2  [{'credit_id': '52fe4330c3a36847f8041367', 'de...  \n",
       "3  [{'credit_id': '56478092c3a36826140043af', 'de...  \n",
       "4  [{'credit_id': '52fe44ce9251416c75041967', 'de...  \n",
       "\n",
       "[5 rows x 22 columns]"
      ]
     },
     "execution_count": 7,
     "metadata": {},
     "output_type": "execute_result"
    }
   ],
   "source": [
    "test.head()"
   ]
  },
  {
   "cell_type": "code",
   "execution_count": 8,
   "metadata": {},
   "outputs": [
    {
     "name": "stdout",
     "output_type": "stream",
     "text": [
      "<class 'pandas.core.frame.DataFrame'>\n",
      "RangeIndex: 3000 entries, 0 to 2999\n",
      "Data columns (total 23 columns):\n",
      "id                       3000 non-null int64\n",
      "belongs_to_collection    604 non-null object\n",
      "budget                   3000 non-null int64\n",
      "genres                   2993 non-null object\n",
      "homepage                 946 non-null object\n",
      "imdb_id                  3000 non-null object\n",
      "original_language        3000 non-null object\n",
      "original_title           3000 non-null object\n",
      "overview                 2992 non-null object\n",
      "popularity               3000 non-null float64\n",
      "poster_path              2999 non-null object\n",
      "production_companies     2844 non-null object\n",
      "production_countries     2945 non-null object\n",
      "release_date             3000 non-null object\n",
      "runtime                  2998 non-null float64\n",
      "spoken_languages         2980 non-null object\n",
      "status                   3000 non-null object\n",
      "tagline                  2403 non-null object\n",
      "title                    3000 non-null object\n",
      "Keywords                 2724 non-null object\n",
      "cast                     2987 non-null object\n",
      "crew                     2984 non-null object\n",
      "revenue                  3000 non-null int64\n",
      "dtypes: float64(2), int64(3), object(18)\n",
      "memory usage: 539.2+ KB\n"
     ]
    }
   ],
   "source": [
    "train.info()"
   ]
  },
  {
   "cell_type": "markdown",
   "metadata": {},
   "source": [
    "We can already see we need to find a way to deal with null values"
   ]
  },
  {
   "cell_type": "code",
   "execution_count": 10,
   "metadata": {},
   "outputs": [
    {
     "name": "stdout",
     "output_type": "stream",
     "text": [
      "<class 'pandas.core.frame.DataFrame'>\n",
      "RangeIndex: 4398 entries, 0 to 4397\n",
      "Data columns (total 22 columns):\n",
      "id                       4398 non-null int64\n",
      "belongs_to_collection    877 non-null object\n",
      "budget                   4398 non-null int64\n",
      "genres                   4382 non-null object\n",
      "homepage                 1420 non-null object\n",
      "imdb_id                  4398 non-null object\n",
      "original_language        4398 non-null object\n",
      "original_title           4398 non-null object\n",
      "overview                 4384 non-null object\n",
      "popularity               4398 non-null float64\n",
      "poster_path              4397 non-null object\n",
      "production_companies     4140 non-null object\n",
      "production_countries     4296 non-null object\n",
      "release_date             4397 non-null object\n",
      "runtime                  4394 non-null float64\n",
      "spoken_languages         4356 non-null object\n",
      "status                   4396 non-null object\n",
      "tagline                  3535 non-null object\n",
      "title                    4395 non-null object\n",
      "Keywords                 4005 non-null object\n",
      "cast                     4385 non-null object\n",
      "crew                     4376 non-null object\n",
      "dtypes: float64(2), int64(2), object(18)\n",
      "memory usage: 756.0+ KB\n"
     ]
    }
   ],
   "source": [
    "test.info()"
   ]
  },
  {
   "cell_type": "code",
   "execution_count": 11,
   "metadata": {},
   "outputs": [
    {
     "data": {
      "text/plain": [
       "(3000, 4398)"
      ]
     },
     "execution_count": 11,
     "metadata": {},
     "output_type": "execute_result"
    }
   ],
   "source": [
    "len(train), len(test)"
   ]
  },
  {
   "cell_type": "code",
   "execution_count": 29,
   "metadata": {},
   "outputs": [],
   "source": [
    "#print(train['crew'])"
   ]
  },
  {
   "cell_type": "markdown",
   "metadata": {},
   "source": [
    "# Explore data"
   ]
  },
  {
   "cell_type": "markdown",
   "metadata": {},
   "source": [
    "Let's take a look at some of the variables, more specifically: budget, runtime and popularity\n"
   ]
  },
  {
   "cell_type": "markdown",
   "metadata": {},
   "source": [
    "# Let's make some plots\n"
   ]
  },
  {
   "cell_type": "code",
   "execution_count": 12,
   "metadata": {},
   "outputs": [
    {
     "data": {
      "image/png": "[encoded data removed]",
      "text/plain": [
       "<Figure size 432x288 with 1 Axes>"
      ]
     },
     "metadata": {
      "needs_background": "light"
     },
     "output_type": "display_data"
    }
   ],
   "source": [
    "ax = sns.lineplot(x='budget', y='revenue', data=train)"
   ]
  },
  {
   "cell_type": "code",
   "execution_count": 13,
   "metadata": {},
   "outputs": [
    {
     "data": {
      "image/png": "[encoded data removed]",
      "text/plain": [
       "<Figure size 432x288 with 1 Axes>"
      ]
     },
     "metadata": {
      "needs_background": "light"
     },
     "output_type": "display_data"
    }
   ],
   "source": [
    "ax = sns.lineplot(x='runtime', y='revenue', data=train)"
   ]
  },
  {
   "cell_type": "code",
   "execution_count": 14,
   "metadata": {},
   "outputs": [
    {
     "data": {
      "image/png": "[encoded data removed]",
      "text/plain": [
       "<Figure size 432x288 with 1 Axes>"
      ]
     },
     "metadata": {
      "needs_background": "light"
     },
     "output_type": "display_data"
    }
   ],
   "source": [
    "ax = sns.lineplot(x='popularity', y='revenue', data=train)"
   ]
  },
  {
   "cell_type": "markdown",
   "metadata": {},
   "source": [
    "# Hmmmmm hvordan kan vi gjøre denne litt bedre"
   ]
  },
  {
   "cell_type": "code",
   "execution_count": 15,
   "metadata": {},
   "outputs": [
    {
     "data": {
      "text/plain": [
       "<seaborn.axisgrid.PairGrid at 0x15817896ac8>"
      ]
     },
     "execution_count": 15,
     "metadata": {},
     "output_type": "execute_result"
    },
    {
     "data": {
      "image/png": "[encoded data removed]",
      "text/plain": [
       "<Figure size 720x720 with 20 Axes>"
      ]
     },
     "metadata": {
      "needs_background": "light"
     },
     "output_type": "display_data"
    }
   ],
   "source": [
    "fig = sns.PairGrid(train[['runtime', 'budget', 'popularity', 'revenue']].dropna()) #dropna dropper nullverdier\n",
    "\n",
    "fig.map_upper(plt.scatter, color = 'red')\n",
    "fig.map_lower(plt.scatter, color = 'm')\n",
    "fig.map_diag(sns.distplot, bins = 30)"
   ]
  },
  {
   "cell_type": "code",
   "execution_count": null,
   "metadata": {},
   "outputs": [],
   "source": [
    "ax = sns.regplot(x=\"budget\", y=\"revenue\", data=train, color =\"m\", ) \n",
    "#1e9 = 10^9"
   ]
  },
  {
   "cell_type": "code",
   "execution_count": 17,
   "metadata": {},
   "outputs": [
    {
     "data": {
      "image/png": "[encoded data removed]",
      "text/plain": [
       "<Figure size 432x288 with 1 Axes>"
      ]
     },
     "metadata": {
      "needs_background": "light"
     },
     "output_type": "display_data"
    }
   ],
   "source": [
    "ax = sns.regplot(x=\"runtime\", y=\"revenue\", data=train)"
   ]
  },
  {
   "cell_type": "code",
   "execution_count": 18,
   "metadata": {},
   "outputs": [
    {
     "data": {
      "image/png": "[encoded data removed]",
      "text/plain": [
       "<Figure size 432x288 with 1 Axes>"
      ]
     },
     "metadata": {
      "needs_background": "light"
     },
     "output_type": "display_data"
    }
   ],
   "source": [
    "ax = sns.regplot(x=\"popularity\", y=\"revenue\", data=train, color =\"g\")"
   ]
  },
  {
   "cell_type": "markdown",
   "metadata": {},
   "source": [
    "# We see that budget and popularity has a big impact on revenue earned. Runtime also has some impact, although not as much as the previous two "
   ]
  },
  {
   "cell_type": "markdown",
   "metadata": {},
   "source": []
  },
  {
   "cell_type": "markdown",
   "metadata": {},
   "source": [
    "# Data cleaning"
   ]
  },
  {
   "cell_type": "markdown",
   "metadata": {},
   "source": [
    "As expected, there are many null values"
   ]
  },
  {
   "cell_type": "code",
   "execution_count": 19,
   "metadata": {},
   "outputs": [
    {
     "data": {
      "text/plain": [
       "5601"
      ]
     },
     "execution_count": 19,
     "metadata": {},
     "output_type": "execute_result"
    }
   ],
   "source": [
    "train.isnull().sum().sum()"
   ]
  },
  {
   "cell_type": "markdown",
   "metadata": {},
   "source": [
    "Missing by feature:"
   ]
  },
  {
   "cell_type": "code",
   "execution_count": 20,
   "metadata": {},
   "outputs": [],
   "source": [
    "pd.set_option(\"display.max_rows\", None) # To print all rows below"
   ]
  },
  {
   "cell_type": "code",
   "execution_count": 21,
   "metadata": {},
   "outputs": [
    {
     "data": {
      "text/plain": [
       "belongs_to_collection    2396\n",
       "homepage                 2054\n",
       "tagline                   597\n",
       "Keywords                  276\n",
       "production_companies      156\n",
       "production_countries       55\n",
       "spoken_languages           20\n",
       "crew                       16\n",
       "cast                       13\n",
       "overview                    8\n",
       "genres                      7\n",
       "runtime                     2\n",
       "poster_path                 1\n",
       "original_language           0\n",
       "budget                      0\n",
       "imdb_id                     0\n",
       "revenue                     0\n",
       "original_title              0\n",
       "popularity                  0\n",
       "release_date                0\n",
       "status                      0\n",
       "title                       0\n",
       "id                          0\n",
       "dtype: int64"
      ]
     },
     "execution_count": 21,
     "metadata": {},
     "output_type": "execute_result"
    }
   ],
   "source": [
    "train.isnull().sum().sort_values(ascending=False)"
   ]
  },
  {
   "cell_type": "markdown",
   "metadata": {},
   "source": [
    "With closer inspection we see that there are few variables that have missing values"
   ]
  },
  {
   "cell_type": "code",
   "execution_count": 22,
   "metadata": {},
   "outputs": [
    {
     "data": {
      "text/plain": [
       "belongs_to_collection    3521\n",
       "homepage                 2978\n",
       "tagline                   863\n",
       "Keywords                  393\n",
       "production_companies      258\n",
       "production_countries      102\n",
       "spoken_languages           42\n",
       "crew                       22\n",
       "genres                     16\n",
       "overview                   14\n",
       "cast                       13\n",
       "runtime                     4\n",
       "title                       3\n",
       "status                      2\n",
       "poster_path                 1\n",
       "release_date                1\n",
       "original_language           0\n",
       "imdb_id                     0\n",
       "original_title              0\n",
       "popularity                  0\n",
       "budget                      0\n",
       "id                          0\n",
       "dtype: int64"
      ]
     },
     "execution_count": 22,
     "metadata": {},
     "output_type": "execute_result"
    }
   ],
   "source": [
    "test.isnull().sum().sort_values(ascending=False)"
   ]
  },
  {
   "cell_type": "markdown",
   "metadata": {},
   "source": [
    "# Using the mean should be enough\n"
   ]
  },
  {
   "cell_type": "code",
   "execution_count": null,
   "metadata": {},
   "outputs": [],
   "source": []
  },
  {
   "cell_type": "code",
   "execution_count": null,
   "metadata": {},
   "outputs": [],
   "source": []
  },
  {
   "cell_type": "code",
   "execution_count": null,
   "metadata": {},
   "outputs": [],
   "source": []
  },
  {
   "cell_type": "code",
   "execution_count": null,
   "metadata": {},
   "outputs": [],
   "source": []
  }
 ],
 "metadata": {
  "kernelspec": {
   "display_name": "DAT158",
   "language": "python",
   "name": "dat158"
  },
  "language_info": {
   "codemirror_mode": {
    "name": "ipython",
    "version": 3
   },
   "file_extension": ".py",
   "mimetype": "text/x-python",
   "name": "python",
   "nbconvert_exporter": "python",
   "pygments_lexer": "ipython3",
   "version": "3.7.4"
  }
 },
 "nbformat": 4,
 "nbformat_minor": 4
}
